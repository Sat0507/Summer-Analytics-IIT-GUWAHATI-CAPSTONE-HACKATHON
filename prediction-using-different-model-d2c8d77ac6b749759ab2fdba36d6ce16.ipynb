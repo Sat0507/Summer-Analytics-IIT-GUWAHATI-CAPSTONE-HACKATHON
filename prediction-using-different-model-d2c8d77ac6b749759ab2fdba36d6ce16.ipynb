{
  "cells": [
    {
      "cell_type": "code",
      "execution_count": 1,
      "id": "b483e048",
      "metadata": {
        "id": "b483e048"
      },
      "outputs": [],
      "source": [
        "import pandas as pd\n",
        "import numpy as np"
      ]
    },
    {
      "cell_type": "code",
      "execution_count": 2,
      "id": "0e106f16",
      "metadata": {
        "id": "0e106f16"
      },
      "outputs": [],
      "source": [
        "df = pd.read_csv(\"Train_Data.csv\")"
      ]
    },
    {
      "cell_type": "code",
      "execution_count": 3,
      "id": "7a8abded",
      "metadata": {
        "id": "7a8abded",
        "colab": {
          "base_uri": "https://localhost:8080/",
          "height": 270
        },
        "outputId": "88614ede-c25b-4161-d8b1-a40c65d363a8"
      },
      "outputs": [
        {
          "output_type": "execute_result",
          "data": {
            "text/plain": [
              "  pc      ld    m0    m1    m2       m3        m4       m5        m6       m7  \\\n",
              "0  y   83.71  63.0   7.2  52.5  14.0232  130.8300  12.4280  188.8425   8.9520   \n",
              "1  y  108.94  31.5  12.8  84.0  13.2840  128.8350  13.5256  183.0990   8.8520   \n",
              "2  E  169.65   0.0   5.6  73.5  14.5472  128.9295  13.6424  174.4680   8.9800   \n",
              "3  x  122.42  31.5   7.2  63.0  15.0152  119.8575  12.3344  186.8580  10.7208   \n",
              "4  E  125.43  94.5   7.2  42.0  14.4176  135.4290  14.5824  187.8135   9.3088   \n",
              "\n",
              "         m8       m9       m10      m11       m12      m13       m14   ma  \\\n",
              "0  201.1905   9.2896  141.9075  16.0968  150.3390  12.4880  173.1240  m78   \n",
              "1  207.2385   8.4704  154.7805  13.3304  101.0205  12.5096  131.4075  m78   \n",
              "2  190.3125  11.3056  156.7650      NaN  122.5350  11.7136  176.8200  m76   \n",
              "3  193.8195  10.6096  175.7490      NaN  124.8030  13.8424  168.2625  m55   \n",
              "4  203.1540   9.8280  172.7040  14.4720  120.2145      NaN  150.1185  m76   \n",
              "\n",
              "   pred  \n",
              "0     0  \n",
              "1     0  \n",
              "2     1  \n",
              "3     0  \n",
              "4     0  "
            ],
            "text/html": [
              "\n",
              "  <div id=\"df-bdf827ae-a577-4fb4-b35a-732e90c81059\">\n",
              "    <div class=\"colab-df-container\">\n",
              "      <div>\n",
              "<style scoped>\n",
              "    .dataframe tbody tr th:only-of-type {\n",
              "        vertical-align: middle;\n",
              "    }\n",
              "\n",
              "    .dataframe tbody tr th {\n",
              "        vertical-align: top;\n",
              "    }\n",
              "\n",
              "    .dataframe thead th {\n",
              "        text-align: right;\n",
              "    }\n",
              "</style>\n",
              "<table border=\"1\" class=\"dataframe\">\n",
              "  <thead>\n",
              "    <tr style=\"text-align: right;\">\n",
              "      <th></th>\n",
              "      <th>pc</th>\n",
              "      <th>ld</th>\n",
              "      <th>m0</th>\n",
              "      <th>m1</th>\n",
              "      <th>m2</th>\n",
              "      <th>m3</th>\n",
              "      <th>m4</th>\n",
              "      <th>m5</th>\n",
              "      <th>m6</th>\n",
              "      <th>m7</th>\n",
              "      <th>m8</th>\n",
              "      <th>m9</th>\n",
              "      <th>m10</th>\n",
              "      <th>m11</th>\n",
              "      <th>m12</th>\n",
              "      <th>m13</th>\n",
              "      <th>m14</th>\n",
              "      <th>ma</th>\n",
              "      <th>pred</th>\n",
              "    </tr>\n",
              "  </thead>\n",
              "  <tbody>\n",
              "    <tr>\n",
              "      <th>0</th>\n",
              "      <td>y</td>\n",
              "      <td>83.71</td>\n",
              "      <td>63.0</td>\n",
              "      <td>7.2</td>\n",
              "      <td>52.5</td>\n",
              "      <td>14.0232</td>\n",
              "      <td>130.8300</td>\n",
              "      <td>12.4280</td>\n",
              "      <td>188.8425</td>\n",
              "      <td>8.9520</td>\n",
              "      <td>201.1905</td>\n",
              "      <td>9.2896</td>\n",
              "      <td>141.9075</td>\n",
              "      <td>16.0968</td>\n",
              "      <td>150.3390</td>\n",
              "      <td>12.4880</td>\n",
              "      <td>173.1240</td>\n",
              "      <td>m78</td>\n",
              "      <td>0</td>\n",
              "    </tr>\n",
              "    <tr>\n",
              "      <th>1</th>\n",
              "      <td>y</td>\n",
              "      <td>108.94</td>\n",
              "      <td>31.5</td>\n",
              "      <td>12.8</td>\n",
              "      <td>84.0</td>\n",
              "      <td>13.2840</td>\n",
              "      <td>128.8350</td>\n",
              "      <td>13.5256</td>\n",
              "      <td>183.0990</td>\n",
              "      <td>8.8520</td>\n",
              "      <td>207.2385</td>\n",
              "      <td>8.4704</td>\n",
              "      <td>154.7805</td>\n",
              "      <td>13.3304</td>\n",
              "      <td>101.0205</td>\n",
              "      <td>12.5096</td>\n",
              "      <td>131.4075</td>\n",
              "      <td>m78</td>\n",
              "      <td>0</td>\n",
              "    </tr>\n",
              "    <tr>\n",
              "      <th>2</th>\n",
              "      <td>E</td>\n",
              "      <td>169.65</td>\n",
              "      <td>0.0</td>\n",
              "      <td>5.6</td>\n",
              "      <td>73.5</td>\n",
              "      <td>14.5472</td>\n",
              "      <td>128.9295</td>\n",
              "      <td>13.6424</td>\n",
              "      <td>174.4680</td>\n",
              "      <td>8.9800</td>\n",
              "      <td>190.3125</td>\n",
              "      <td>11.3056</td>\n",
              "      <td>156.7650</td>\n",
              "      <td>NaN</td>\n",
              "      <td>122.5350</td>\n",
              "      <td>11.7136</td>\n",
              "      <td>176.8200</td>\n",
              "      <td>m76</td>\n",
              "      <td>1</td>\n",
              "    </tr>\n",
              "    <tr>\n",
              "      <th>3</th>\n",
              "      <td>x</td>\n",
              "      <td>122.42</td>\n",
              "      <td>31.5</td>\n",
              "      <td>7.2</td>\n",
              "      <td>63.0</td>\n",
              "      <td>15.0152</td>\n",
              "      <td>119.8575</td>\n",
              "      <td>12.3344</td>\n",
              "      <td>186.8580</td>\n",
              "      <td>10.7208</td>\n",
              "      <td>193.8195</td>\n",
              "      <td>10.6096</td>\n",
              "      <td>175.7490</td>\n",
              "      <td>NaN</td>\n",
              "      <td>124.8030</td>\n",
              "      <td>13.8424</td>\n",
              "      <td>168.2625</td>\n",
              "      <td>m55</td>\n",
              "      <td>0</td>\n",
              "    </tr>\n",
              "    <tr>\n",
              "      <th>4</th>\n",
              "      <td>E</td>\n",
              "      <td>125.43</td>\n",
              "      <td>94.5</td>\n",
              "      <td>7.2</td>\n",
              "      <td>42.0</td>\n",
              "      <td>14.4176</td>\n",
              "      <td>135.4290</td>\n",
              "      <td>14.5824</td>\n",
              "      <td>187.8135</td>\n",
              "      <td>9.3088</td>\n",
              "      <td>203.1540</td>\n",
              "      <td>9.8280</td>\n",
              "      <td>172.7040</td>\n",
              "      <td>14.4720</td>\n",
              "      <td>120.2145</td>\n",
              "      <td>NaN</td>\n",
              "      <td>150.1185</td>\n",
              "      <td>m76</td>\n",
              "      <td>0</td>\n",
              "    </tr>\n",
              "  </tbody>\n",
              "</table>\n",
              "</div>\n",
              "      <button class=\"colab-df-convert\" onclick=\"convertToInteractive('df-bdf827ae-a577-4fb4-b35a-732e90c81059')\"\n",
              "              title=\"Convert this dataframe to an interactive table.\"\n",
              "              style=\"display:none;\">\n",
              "        \n",
              "  <svg xmlns=\"http://www.w3.org/2000/svg\" height=\"24px\"viewBox=\"0 0 24 24\"\n",
              "       width=\"24px\">\n",
              "    <path d=\"M0 0h24v24H0V0z\" fill=\"none\"/>\n",
              "    <path d=\"M18.56 5.44l.94 2.06.94-2.06 2.06-.94-2.06-.94-.94-2.06-.94 2.06-2.06.94zm-11 1L8.5 8.5l.94-2.06 2.06-.94-2.06-.94L8.5 2.5l-.94 2.06-2.06.94zm10 10l.94 2.06.94-2.06 2.06-.94-2.06-.94-.94-2.06-.94 2.06-2.06.94z\"/><path d=\"M17.41 7.96l-1.37-1.37c-.4-.4-.92-.59-1.43-.59-.52 0-1.04.2-1.43.59L10.3 9.45l-7.72 7.72c-.78.78-.78 2.05 0 2.83L4 21.41c.39.39.9.59 1.41.59.51 0 1.02-.2 1.41-.59l7.78-7.78 2.81-2.81c.8-.78.8-2.07 0-2.86zM5.41 20L4 18.59l7.72-7.72 1.47 1.35L5.41 20z\"/>\n",
              "  </svg>\n",
              "      </button>\n",
              "      \n",
              "  <style>\n",
              "    .colab-df-container {\n",
              "      display:flex;\n",
              "      flex-wrap:wrap;\n",
              "      gap: 12px;\n",
              "    }\n",
              "\n",
              "    .colab-df-convert {\n",
              "      background-color: #E8F0FE;\n",
              "      border: none;\n",
              "      border-radius: 50%;\n",
              "      cursor: pointer;\n",
              "      display: none;\n",
              "      fill: #1967D2;\n",
              "      height: 32px;\n",
              "      padding: 0 0 0 0;\n",
              "      width: 32px;\n",
              "    }\n",
              "\n",
              "    .colab-df-convert:hover {\n",
              "      background-color: #E2EBFA;\n",
              "      box-shadow: 0px 1px 2px rgba(60, 64, 67, 0.3), 0px 1px 3px 1px rgba(60, 64, 67, 0.15);\n",
              "      fill: #174EA6;\n",
              "    }\n",
              "\n",
              "    [theme=dark] .colab-df-convert {\n",
              "      background-color: #3B4455;\n",
              "      fill: #D2E3FC;\n",
              "    }\n",
              "\n",
              "    [theme=dark] .colab-df-convert:hover {\n",
              "      background-color: #434B5C;\n",
              "      box-shadow: 0px 1px 3px 1px rgba(0, 0, 0, 0.15);\n",
              "      filter: drop-shadow(0px 1px 2px rgba(0, 0, 0, 0.3));\n",
              "      fill: #FFFFFF;\n",
              "    }\n",
              "  </style>\n",
              "\n",
              "      <script>\n",
              "        const buttonEl =\n",
              "          document.querySelector('#df-bdf827ae-a577-4fb4-b35a-732e90c81059 button.colab-df-convert');\n",
              "        buttonEl.style.display =\n",
              "          google.colab.kernel.accessAllowed ? 'block' : 'none';\n",
              "\n",
              "        async function convertToInteractive(key) {\n",
              "          const element = document.querySelector('#df-bdf827ae-a577-4fb4-b35a-732e90c81059');\n",
              "          const dataTable =\n",
              "            await google.colab.kernel.invokeFunction('convertToInteractive',\n",
              "                                                     [key], {});\n",
              "          if (!dataTable) return;\n",
              "\n",
              "          const docLinkHtml = 'Like what you see? Visit the ' +\n",
              "            '<a target=\"_blank\" href=https://colab.research.google.com/notebooks/data_table.ipynb>data table notebook</a>'\n",
              "            + ' to learn more about interactive tables.';\n",
              "          element.innerHTML = '';\n",
              "          dataTable['output_type'] = 'display_data';\n",
              "          await google.colab.output.renderOutput(dataTable, element);\n",
              "          const docLink = document.createElement('div');\n",
              "          docLink.innerHTML = docLinkHtml;\n",
              "          element.appendChild(docLink);\n",
              "        }\n",
              "      </script>\n",
              "    </div>\n",
              "  </div>\n",
              "  "
            ]
          },
          "metadata": {},
          "execution_count": 3
        }
      ],
      "source": [
        "df.head()"
      ]
    },
    {
      "cell_type": "markdown",
      "source": [
        "## Cleaning data training\n"
      ],
      "metadata": {
        "id": "6UbeLzkc5B-u"
      },
      "id": "6UbeLzkc5B-u"
    },
    {
      "cell_type": "code",
      "execution_count": 4,
      "id": "22a15a1d",
      "metadata": {
        "id": "22a15a1d",
        "colab": {
          "base_uri": "https://localhost:8080/"
        },
        "outputId": "22ce66f2-23f9-4c72-8740-05ab001481d5"
      },
      "outputs": [
        {
          "output_type": "execute_result",
          "data": {
            "text/plain": [
              "array(['m78', 'm76', 'm55', 'm75'], dtype=object)"
            ]
          },
          "metadata": {},
          "execution_count": 4
        }
      ],
      "source": [
        "df['ma'].unique()"
      ]
    },
    {
      "cell_type": "code",
      "execution_count": 5,
      "id": "60c1098c",
      "metadata": {
        "id": "60c1098c"
      },
      "outputs": [],
      "source": [
        "encoded_ma = pd.get_dummies(df['ma'])\n",
        "encoded_df = pd.get_dummies(df['pc'], prefix ='pc')"
      ]
    },
    {
      "cell_type": "code",
      "execution_count": 6,
      "id": "3dbb7c79",
      "metadata": {
        "id": "3dbb7c79"
      },
      "outputs": [],
      "source": [
        "df_encoded = pd.concat([df,encoded_ma, encoded_df], axis=1)"
      ]
    },
    {
      "cell_type": "code",
      "source": [
        "df_encoded = df_encoded.drop(['ma','pc'], axis=1)"
      ],
      "metadata": {
        "id": "cD5XXBmmdlMh"
      },
      "id": "cD5XXBmmdlMh",
      "execution_count": 7,
      "outputs": []
    },
    {
      "cell_type": "code",
      "execution_count": 8,
      "id": "2b1858e9",
      "metadata": {
        "id": "2b1858e9",
        "colab": {
          "base_uri": "https://localhost:8080/",
          "height": 0
        },
        "outputId": "8bbf9d5d-1435-4d13-c3a2-9aada923eb2d"
      },
      "outputs": [
        {
          "output_type": "execute_result",
          "data": {
            "text/plain": [
              "           ld     m0    m1     m2       m3        m4       m5        m6  \\\n",
              "0       83.71   63.0   7.2   52.5  14.0232  130.8300  12.4280  188.8425   \n",
              "1      108.94   31.5  12.8   84.0  13.2840  128.8350  13.5256  183.0990   \n",
              "2      169.65    0.0   5.6   73.5  14.5472  128.9295  13.6424  174.4680   \n",
              "3      122.42   31.5   7.2   63.0  15.0152  119.8575  12.3344  186.8580   \n",
              "4      125.43   94.5   7.2   42.0  14.4176  135.4290  14.5824  187.8135   \n",
              "...       ...    ...   ...    ...      ...       ...      ...       ...   \n",
              "22579  139.08   73.5   7.2   84.0  13.8016  115.9725  13.8856  189.0000   \n",
              "22580  156.74   63.0   5.6  105.0  13.6464  130.2000  12.4688  180.3690   \n",
              "22581  115.63  147.0   4.8   31.5  13.4344  115.5000  13.5752  190.8900   \n",
              "22582  216.26  105.0   4.8   31.5  13.8176  112.5285  13.2408  166.8555   \n",
              "22583  120.65   31.5   6.4   42.0  14.8536  149.5305  13.1448  189.3570   \n",
              "\n",
              "            m7        m8  ...  pred  m55  m75  m76  m78  pc_E  pc_w  pc_x  \\\n",
              "0       8.9520  201.1905  ...     0    0    0    0    1     0     0     0   \n",
              "1       8.8520  207.2385  ...     0    0    0    0    1     0     0     0   \n",
              "2       8.9800  190.3125  ...     1    0    0    1    0     1     0     0   \n",
              "3      10.7208  193.8195  ...     0    1    0    0    0     0     0     1   \n",
              "4       9.3088  203.1540  ...     0    0    0    1    0     1     0     0   \n",
              "...        ...       ...  ...   ...  ...  ...  ...  ...   ...   ...   ...   \n",
              "22579   8.6536  196.7490  ...     1    0    0    1    0     1     0     0   \n",
              "22580  10.6984  212.6355  ...     1    1    0    0    0     0     0     1   \n",
              "22581   9.6144  219.6810  ...     0    0    0    0    1     0     1     0   \n",
              "22582   9.0160  200.3610  ...     0    0    0    0    1     0     0     0   \n",
              "22583  10.0600  192.2970  ...     0    0    0    1    0     1     0     0   \n",
              "\n",
              "       pc_y  pc_z  \n",
              "0         1     0  \n",
              "1         1     0  \n",
              "2         0     0  \n",
              "3         0     0  \n",
              "4         0     0  \n",
              "...     ...   ...  \n",
              "22579     0     0  \n",
              "22580     0     0  \n",
              "22581     0     0  \n",
              "22582     1     0  \n",
              "22583     0     0  \n",
              "\n",
              "[22584 rows x 26 columns]"
            ],
            "text/html": [
              "\n",
              "  <div id=\"df-2bd3fcb2-619e-4acf-a020-e4dba4197f12\">\n",
              "    <div class=\"colab-df-container\">\n",
              "      <div>\n",
              "<style scoped>\n",
              "    .dataframe tbody tr th:only-of-type {\n",
              "        vertical-align: middle;\n",
              "    }\n",
              "\n",
              "    .dataframe tbody tr th {\n",
              "        vertical-align: top;\n",
              "    }\n",
              "\n",
              "    .dataframe thead th {\n",
              "        text-align: right;\n",
              "    }\n",
              "</style>\n",
              "<table border=\"1\" class=\"dataframe\">\n",
              "  <thead>\n",
              "    <tr style=\"text-align: right;\">\n",
              "      <th></th>\n",
              "      <th>ld</th>\n",
              "      <th>m0</th>\n",
              "      <th>m1</th>\n",
              "      <th>m2</th>\n",
              "      <th>m3</th>\n",
              "      <th>m4</th>\n",
              "      <th>m5</th>\n",
              "      <th>m6</th>\n",
              "      <th>m7</th>\n",
              "      <th>m8</th>\n",
              "      <th>...</th>\n",
              "      <th>pred</th>\n",
              "      <th>m55</th>\n",
              "      <th>m75</th>\n",
              "      <th>m76</th>\n",
              "      <th>m78</th>\n",
              "      <th>pc_E</th>\n",
              "      <th>pc_w</th>\n",
              "      <th>pc_x</th>\n",
              "      <th>pc_y</th>\n",
              "      <th>pc_z</th>\n",
              "    </tr>\n",
              "  </thead>\n",
              "  <tbody>\n",
              "    <tr>\n",
              "      <th>0</th>\n",
              "      <td>83.71</td>\n",
              "      <td>63.0</td>\n",
              "      <td>7.2</td>\n",
              "      <td>52.5</td>\n",
              "      <td>14.0232</td>\n",
              "      <td>130.8300</td>\n",
              "      <td>12.4280</td>\n",
              "      <td>188.8425</td>\n",
              "      <td>8.9520</td>\n",
              "      <td>201.1905</td>\n",
              "      <td>...</td>\n",
              "      <td>0</td>\n",
              "      <td>0</td>\n",
              "      <td>0</td>\n",
              "      <td>0</td>\n",
              "      <td>1</td>\n",
              "      <td>0</td>\n",
              "      <td>0</td>\n",
              "      <td>0</td>\n",
              "      <td>1</td>\n",
              "      <td>0</td>\n",
              "    </tr>\n",
              "    <tr>\n",
              "      <th>1</th>\n",
              "      <td>108.94</td>\n",
              "      <td>31.5</td>\n",
              "      <td>12.8</td>\n",
              "      <td>84.0</td>\n",
              "      <td>13.2840</td>\n",
              "      <td>128.8350</td>\n",
              "      <td>13.5256</td>\n",
              "      <td>183.0990</td>\n",
              "      <td>8.8520</td>\n",
              "      <td>207.2385</td>\n",
              "      <td>...</td>\n",
              "      <td>0</td>\n",
              "      <td>0</td>\n",
              "      <td>0</td>\n",
              "      <td>0</td>\n",
              "      <td>1</td>\n",
              "      <td>0</td>\n",
              "      <td>0</td>\n",
              "      <td>0</td>\n",
              "      <td>1</td>\n",
              "      <td>0</td>\n",
              "    </tr>\n",
              "    <tr>\n",
              "      <th>2</th>\n",
              "      <td>169.65</td>\n",
              "      <td>0.0</td>\n",
              "      <td>5.6</td>\n",
              "      <td>73.5</td>\n",
              "      <td>14.5472</td>\n",
              "      <td>128.9295</td>\n",
              "      <td>13.6424</td>\n",
              "      <td>174.4680</td>\n",
              "      <td>8.9800</td>\n",
              "      <td>190.3125</td>\n",
              "      <td>...</td>\n",
              "      <td>1</td>\n",
              "      <td>0</td>\n",
              "      <td>0</td>\n",
              "      <td>1</td>\n",
              "      <td>0</td>\n",
              "      <td>1</td>\n",
              "      <td>0</td>\n",
              "      <td>0</td>\n",
              "      <td>0</td>\n",
              "      <td>0</td>\n",
              "    </tr>\n",
              "    <tr>\n",
              "      <th>3</th>\n",
              "      <td>122.42</td>\n",
              "      <td>31.5</td>\n",
              "      <td>7.2</td>\n",
              "      <td>63.0</td>\n",
              "      <td>15.0152</td>\n",
              "      <td>119.8575</td>\n",
              "      <td>12.3344</td>\n",
              "      <td>186.8580</td>\n",
              "      <td>10.7208</td>\n",
              "      <td>193.8195</td>\n",
              "      <td>...</td>\n",
              "      <td>0</td>\n",
              "      <td>1</td>\n",
              "      <td>0</td>\n",
              "      <td>0</td>\n",
              "      <td>0</td>\n",
              "      <td>0</td>\n",
              "      <td>0</td>\n",
              "      <td>1</td>\n",
              "      <td>0</td>\n",
              "      <td>0</td>\n",
              "    </tr>\n",
              "    <tr>\n",
              "      <th>4</th>\n",
              "      <td>125.43</td>\n",
              "      <td>94.5</td>\n",
              "      <td>7.2</td>\n",
              "      <td>42.0</td>\n",
              "      <td>14.4176</td>\n",
              "      <td>135.4290</td>\n",
              "      <td>14.5824</td>\n",
              "      <td>187.8135</td>\n",
              "      <td>9.3088</td>\n",
              "      <td>203.1540</td>\n",
              "      <td>...</td>\n",
              "      <td>0</td>\n",
              "      <td>0</td>\n",
              "      <td>0</td>\n",
              "      <td>1</td>\n",
              "      <td>0</td>\n",
              "      <td>1</td>\n",
              "      <td>0</td>\n",
              "      <td>0</td>\n",
              "      <td>0</td>\n",
              "      <td>0</td>\n",
              "    </tr>\n",
              "    <tr>\n",
              "      <th>...</th>\n",
              "      <td>...</td>\n",
              "      <td>...</td>\n",
              "      <td>...</td>\n",
              "      <td>...</td>\n",
              "      <td>...</td>\n",
              "      <td>...</td>\n",
              "      <td>...</td>\n",
              "      <td>...</td>\n",
              "      <td>...</td>\n",
              "      <td>...</td>\n",
              "      <td>...</td>\n",
              "      <td>...</td>\n",
              "      <td>...</td>\n",
              "      <td>...</td>\n",
              "      <td>...</td>\n",
              "      <td>...</td>\n",
              "      <td>...</td>\n",
              "      <td>...</td>\n",
              "      <td>...</td>\n",
              "      <td>...</td>\n",
              "      <td>...</td>\n",
              "    </tr>\n",
              "    <tr>\n",
              "      <th>22579</th>\n",
              "      <td>139.08</td>\n",
              "      <td>73.5</td>\n",
              "      <td>7.2</td>\n",
              "      <td>84.0</td>\n",
              "      <td>13.8016</td>\n",
              "      <td>115.9725</td>\n",
              "      <td>13.8856</td>\n",
              "      <td>189.0000</td>\n",
              "      <td>8.6536</td>\n",
              "      <td>196.7490</td>\n",
              "      <td>...</td>\n",
              "      <td>1</td>\n",
              "      <td>0</td>\n",
              "      <td>0</td>\n",
              "      <td>1</td>\n",
              "      <td>0</td>\n",
              "      <td>1</td>\n",
              "      <td>0</td>\n",
              "      <td>0</td>\n",
              "      <td>0</td>\n",
              "      <td>0</td>\n",
              "    </tr>\n",
              "    <tr>\n",
              "      <th>22580</th>\n",
              "      <td>156.74</td>\n",
              "      <td>63.0</td>\n",
              "      <td>5.6</td>\n",
              "      <td>105.0</td>\n",
              "      <td>13.6464</td>\n",
              "      <td>130.2000</td>\n",
              "      <td>12.4688</td>\n",
              "      <td>180.3690</td>\n",
              "      <td>10.6984</td>\n",
              "      <td>212.6355</td>\n",
              "      <td>...</td>\n",
              "      <td>1</td>\n",
              "      <td>1</td>\n",
              "      <td>0</td>\n",
              "      <td>0</td>\n",
              "      <td>0</td>\n",
              "      <td>0</td>\n",
              "      <td>0</td>\n",
              "      <td>1</td>\n",
              "      <td>0</td>\n",
              "      <td>0</td>\n",
              "    </tr>\n",
              "    <tr>\n",
              "      <th>22581</th>\n",
              "      <td>115.63</td>\n",
              "      <td>147.0</td>\n",
              "      <td>4.8</td>\n",
              "      <td>31.5</td>\n",
              "      <td>13.4344</td>\n",
              "      <td>115.5000</td>\n",
              "      <td>13.5752</td>\n",
              "      <td>190.8900</td>\n",
              "      <td>9.6144</td>\n",
              "      <td>219.6810</td>\n",
              "      <td>...</td>\n",
              "      <td>0</td>\n",
              "      <td>0</td>\n",
              "      <td>0</td>\n",
              "      <td>0</td>\n",
              "      <td>1</td>\n",
              "      <td>0</td>\n",
              "      <td>1</td>\n",
              "      <td>0</td>\n",
              "      <td>0</td>\n",
              "      <td>0</td>\n",
              "    </tr>\n",
              "    <tr>\n",
              "      <th>22582</th>\n",
              "      <td>216.26</td>\n",
              "      <td>105.0</td>\n",
              "      <td>4.8</td>\n",
              "      <td>31.5</td>\n",
              "      <td>13.8176</td>\n",
              "      <td>112.5285</td>\n",
              "      <td>13.2408</td>\n",
              "      <td>166.8555</td>\n",
              "      <td>9.0160</td>\n",
              "      <td>200.3610</td>\n",
              "      <td>...</td>\n",
              "      <td>0</td>\n",
              "      <td>0</td>\n",
              "      <td>0</td>\n",
              "      <td>0</td>\n",
              "      <td>1</td>\n",
              "      <td>0</td>\n",
              "      <td>0</td>\n",
              "      <td>0</td>\n",
              "      <td>1</td>\n",
              "      <td>0</td>\n",
              "    </tr>\n",
              "    <tr>\n",
              "      <th>22583</th>\n",
              "      <td>120.65</td>\n",
              "      <td>31.5</td>\n",
              "      <td>6.4</td>\n",
              "      <td>42.0</td>\n",
              "      <td>14.8536</td>\n",
              "      <td>149.5305</td>\n",
              "      <td>13.1448</td>\n",
              "      <td>189.3570</td>\n",
              "      <td>10.0600</td>\n",
              "      <td>192.2970</td>\n",
              "      <td>...</td>\n",
              "      <td>0</td>\n",
              "      <td>0</td>\n",
              "      <td>0</td>\n",
              "      <td>1</td>\n",
              "      <td>0</td>\n",
              "      <td>1</td>\n",
              "      <td>0</td>\n",
              "      <td>0</td>\n",
              "      <td>0</td>\n",
              "      <td>0</td>\n",
              "    </tr>\n",
              "  </tbody>\n",
              "</table>\n",
              "<p>22584 rows × 26 columns</p>\n",
              "</div>\n",
              "      <button class=\"colab-df-convert\" onclick=\"convertToInteractive('df-2bd3fcb2-619e-4acf-a020-e4dba4197f12')\"\n",
              "              title=\"Convert this dataframe to an interactive table.\"\n",
              "              style=\"display:none;\">\n",
              "        \n",
              "  <svg xmlns=\"http://www.w3.org/2000/svg\" height=\"24px\"viewBox=\"0 0 24 24\"\n",
              "       width=\"24px\">\n",
              "    <path d=\"M0 0h24v24H0V0z\" fill=\"none\"/>\n",
              "    <path d=\"M18.56 5.44l.94 2.06.94-2.06 2.06-.94-2.06-.94-.94-2.06-.94 2.06-2.06.94zm-11 1L8.5 8.5l.94-2.06 2.06-.94-2.06-.94L8.5 2.5l-.94 2.06-2.06.94zm10 10l.94 2.06.94-2.06 2.06-.94-2.06-.94-.94-2.06-.94 2.06-2.06.94z\"/><path d=\"M17.41 7.96l-1.37-1.37c-.4-.4-.92-.59-1.43-.59-.52 0-1.04.2-1.43.59L10.3 9.45l-7.72 7.72c-.78.78-.78 2.05 0 2.83L4 21.41c.39.39.9.59 1.41.59.51 0 1.02-.2 1.41-.59l7.78-7.78 2.81-2.81c.8-.78.8-2.07 0-2.86zM5.41 20L4 18.59l7.72-7.72 1.47 1.35L5.41 20z\"/>\n",
              "  </svg>\n",
              "      </button>\n",
              "      \n",
              "  <style>\n",
              "    .colab-df-container {\n",
              "      display:flex;\n",
              "      flex-wrap:wrap;\n",
              "      gap: 12px;\n",
              "    }\n",
              "\n",
              "    .colab-df-convert {\n",
              "      background-color: #E8F0FE;\n",
              "      border: none;\n",
              "      border-radius: 50%;\n",
              "      cursor: pointer;\n",
              "      display: none;\n",
              "      fill: #1967D2;\n",
              "      height: 32px;\n",
              "      padding: 0 0 0 0;\n",
              "      width: 32px;\n",
              "    }\n",
              "\n",
              "    .colab-df-convert:hover {\n",
              "      background-color: #E2EBFA;\n",
              "      box-shadow: 0px 1px 2px rgba(60, 64, 67, 0.3), 0px 1px 3px 1px rgba(60, 64, 67, 0.15);\n",
              "      fill: #174EA6;\n",
              "    }\n",
              "\n",
              "    [theme=dark] .colab-df-convert {\n",
              "      background-color: #3B4455;\n",
              "      fill: #D2E3FC;\n",
              "    }\n",
              "\n",
              "    [theme=dark] .colab-df-convert:hover {\n",
              "      background-color: #434B5C;\n",
              "      box-shadow: 0px 1px 3px 1px rgba(0, 0, 0, 0.15);\n",
              "      filter: drop-shadow(0px 1px 2px rgba(0, 0, 0, 0.3));\n",
              "      fill: #FFFFFF;\n",
              "    }\n",
              "  </style>\n",
              "\n",
              "      <script>\n",
              "        const buttonEl =\n",
              "          document.querySelector('#df-2bd3fcb2-619e-4acf-a020-e4dba4197f12 button.colab-df-convert');\n",
              "        buttonEl.style.display =\n",
              "          google.colab.kernel.accessAllowed ? 'block' : 'none';\n",
              "\n",
              "        async function convertToInteractive(key) {\n",
              "          const element = document.querySelector('#df-2bd3fcb2-619e-4acf-a020-e4dba4197f12');\n",
              "          const dataTable =\n",
              "            await google.colab.kernel.invokeFunction('convertToInteractive',\n",
              "                                                     [key], {});\n",
              "          if (!dataTable) return;\n",
              "\n",
              "          const docLinkHtml = 'Like what you see? Visit the ' +\n",
              "            '<a target=\"_blank\" href=https://colab.research.google.com/notebooks/data_table.ipynb>data table notebook</a>'\n",
              "            + ' to learn more about interactive tables.';\n",
              "          element.innerHTML = '';\n",
              "          dataTable['output_type'] = 'display_data';\n",
              "          await google.colab.output.renderOutput(dataTable, element);\n",
              "          const docLink = document.createElement('div');\n",
              "          docLink.innerHTML = docLinkHtml;\n",
              "          element.appendChild(docLink);\n",
              "        }\n",
              "      </script>\n",
              "    </div>\n",
              "  </div>\n",
              "  "
            ]
          },
          "metadata": {},
          "execution_count": 8
        }
      ],
      "source": [
        "df_encoded"
      ]
    },
    {
      "cell_type": "code",
      "source": [
        "print(list(df_encoded.isnull().sum()))"
      ],
      "metadata": {
        "id": "MNUrD6ETnJQc",
        "colab": {
          "base_uri": "https://localhost:8080/"
        },
        "outputId": "c73ae215-4ee9-4217-bb4b-b310d11d2621"
      },
      "id": "MNUrD6ETnJQc",
      "execution_count": 9,
      "outputs": [
        {
          "output_type": "stream",
          "name": "stdout",
          "text": [
            "[222, 0, 0, 0, 314, 467, 576, 675, 788, 900, 1047, 1100, 1227, 1381, 1499, 1589, 0, 0, 0, 0, 0, 0, 0, 0, 0, 0]\n"
          ]
        }
      ]
    },
    {
      "cell_type": "code",
      "source": [
        "columns_to_fill = []\n",
        "\n",
        "for col in df_encoded.columns:\n",
        "  if df_encoded[col].isnull().sum() != 0:\n",
        "    columns_to_fill.append(col)\n",
        "\n",
        "\n",
        "fill_nan_with_class_mean = lambda col: col.fillna(df_encoded.groupby('pred')[col.name].transform('mean'))\n",
        "df_encoded[columns_to_fill] = df_encoded[columns_to_fill].apply(fill_nan_with_class_mean)"
      ],
      "metadata": {
        "id": "D8kKcprfgIar"
      },
      "id": "D8kKcprfgIar",
      "execution_count": 10,
      "outputs": []
    },
    {
      "cell_type": "code",
      "source": [
        "print(list(df_encoded.isnull().sum()))"
      ],
      "metadata": {
        "id": "moxxuZywnHWr",
        "colab": {
          "base_uri": "https://localhost:8080/"
        },
        "outputId": "8c24fe9e-0efe-4bb9-dd1f-f1c8c0aba240"
      },
      "id": "moxxuZywnHWr",
      "execution_count": 11,
      "outputs": [
        {
          "output_type": "stream",
          "name": "stdout",
          "text": [
            "[0, 0, 0, 0, 0, 0, 0, 0, 0, 0, 0, 0, 0, 0, 0, 0, 0, 0, 0, 0, 0, 0, 0, 0, 0, 0]\n"
          ]
        }
      ]
    },
    {
      "cell_type": "code",
      "execution_count": 12,
      "id": "381e0233",
      "metadata": {
        "id": "381e0233"
      },
      "outputs": [],
      "source": [
        "df_train = df_encoded"
      ]
    },
    {
      "cell_type": "code",
      "source": [
        "df_train['pred'].value_counts()"
      ],
      "metadata": {
        "id": "YYNa6SNTnjIC",
        "colab": {
          "base_uri": "https://localhost:8080/"
        },
        "outputId": "f7637698-e5e4-4f70-b497-bd1cefa7efa8"
      },
      "id": "YYNa6SNTnjIC",
      "execution_count": 13,
      "outputs": [
        {
          "output_type": "execute_result",
          "data": {
            "text/plain": [
              "0    17711\n",
              "1     4873\n",
              "Name: pred, dtype: int64"
            ]
          },
          "metadata": {},
          "execution_count": 13
        }
      ]
    },
    {
      "cell_type": "code",
      "source": [
        "df_encoded = pd.concat([df,encoded_ma, encoded_df], axis=1)"
      ],
      "metadata": {
        "id": "slXPT60W1VFA"
      },
      "id": "slXPT60W1VFA",
      "execution_count": 14,
      "outputs": []
    },
    {
      "cell_type": "markdown",
      "source": [
        "## Cleaning data testing\n"
      ],
      "metadata": {
        "id": "PCC0cEK8-twS"
      },
      "id": "PCC0cEK8-twS"
    },
    {
      "cell_type": "code",
      "source": [
        "df2 = pd.read_csv('Test_Data.csv')"
      ],
      "metadata": {
        "id": "QBxAjjcH-9zK"
      },
      "id": "QBxAjjcH-9zK",
      "execution_count": 15,
      "outputs": []
    },
    {
      "cell_type": "code",
      "execution_count": 16,
      "metadata": {
        "id": "SohO6jTg-twY",
        "colab": {
          "base_uri": "https://localhost:8080/"
        },
        "outputId": "66431e41-597e-4b87-ea94-d3423576125f"
      },
      "outputs": [
        {
          "output_type": "execute_result",
          "data": {
            "text/plain": [
              "array(['m76', 'm78', 'm75', 'm55'], dtype=object)"
            ]
          },
          "metadata": {},
          "execution_count": 16
        }
      ],
      "source": [
        "df2['ma'].unique()"
      ],
      "id": "SohO6jTg-twY"
    },
    {
      "cell_type": "code",
      "execution_count": 17,
      "metadata": {
        "id": "roVPArbt-twY"
      },
      "outputs": [],
      "source": [
        "encoded_ma2 = pd.get_dummies(df2['ma'])\n",
        "encoded_df2 = pd.get_dummies(df2['pc'], prefix ='pc')"
      ],
      "id": "roVPArbt-twY"
    },
    {
      "cell_type": "code",
      "execution_count": 18,
      "metadata": {
        "id": "5LD1PKba-twY"
      },
      "outputs": [],
      "source": [
        "df2_encoded = pd.concat([df2,encoded_ma2, encoded_df2], axis=1)"
      ],
      "id": "5LD1PKba-twY"
    },
    {
      "cell_type": "code",
      "source": [
        "df2_encoded = df2_encoded.drop(['ma','pc'], axis=1)"
      ],
      "metadata": {
        "id": "E02Cw9-r-twY"
      },
      "execution_count": 19,
      "outputs": [],
      "id": "E02Cw9-r-twY"
    },
    {
      "cell_type": "code",
      "execution_count": 20,
      "metadata": {
        "id": "eTqSGUOq-twY",
        "colab": {
          "base_uri": "https://localhost:8080/",
          "height": 487
        },
        "outputId": "f231aa27-223c-48a6-ef47-0106c3544d54"
      },
      "outputs": [
        {
          "output_type": "execute_result",
          "data": {
            "text/plain": [
              "      index      ld     m0    m1     m2       m3        m4       m5        m6  \\\n",
              "0         0  156.46   73.5   8.8  105.0  13.2768  113.5365  13.9552  168.5460   \n",
              "1         1   58.87   84.0  12.8   42.0  14.4440  126.6930  13.6688  190.6275   \n",
              "2         2  139.68  126.0   3.2   73.5  14.2432  107.4885  13.8544  168.3255   \n",
              "3         3  194.06   52.5   6.4  105.0  14.5480  138.6105  13.5080  196.6545   \n",
              "4         4  173.14   42.0   8.0  136.5  14.9496  103.8765  13.8936  168.3570   \n",
              "...     ...     ...    ...   ...    ...      ...       ...      ...       ...   \n",
              "3981   3981  109.45  126.0   4.0   94.5  14.6168  131.4495  13.1032  189.0840   \n",
              "3982   3982  188.31  136.5   1.6   21.0  12.9032  115.1535  14.3616  189.4830   \n",
              "3983   3983   80.99   31.5   4.8  115.5  15.0696  114.6810  14.0200  186.0810   \n",
              "3984   3984  120.64   42.0   0.8  126.0  13.8960  123.6585  13.5496  187.8975   \n",
              "3985   3985  115.73  199.5   4.0   10.5  14.2592  129.0555  13.8904  179.6865   \n",
              "\n",
              "           m7  ...       m14  m55  m75  m76  m78  pc_E  pc_w  pc_x  pc_y  pc_z  \n",
              "0      8.5896  ...  166.1100    0    0    1    0     1     0     0     0     0  \n",
              "1     10.1712  ...  177.7230    0    0    0    1     0     0     0     1     0  \n",
              "2     10.2504  ...  185.6085    0    0    0    1     0     1     0     0     0  \n",
              "3     10.6304  ...  180.2745    0    1    0    0     0     0     0     0     1  \n",
              "4      9.6184  ...  157.6470    1    0    0    0     0     0     1     0     0  \n",
              "...       ...  ...       ...  ...  ...  ...  ...   ...   ...   ...   ...   ...  \n",
              "3981   8.3384  ...  180.0435    0    1    0    0     0     0     0     0     1  \n",
              "3982   7.6680  ...  204.5505    0    0    0    1     0     1     0     0     0  \n",
              "3983   9.2080  ...       NaN    0    0    1    0     1     0     0     0     0  \n",
              "3984   9.7944  ...  164.2410    0    0    0    1     0     1     0     0     0  \n",
              "3985   8.8712  ...  178.5420    0    0    0    1     0     1     0     0     0  \n",
              "\n",
              "[3986 rows x 26 columns]"
            ],
            "text/html": [
              "\n",
              "  <div id=\"df-d0f9e76f-290f-4d66-9226-92327c6ec368\">\n",
              "    <div class=\"colab-df-container\">\n",
              "      <div>\n",
              "<style scoped>\n",
              "    .dataframe tbody tr th:only-of-type {\n",
              "        vertical-align: middle;\n",
              "    }\n",
              "\n",
              "    .dataframe tbody tr th {\n",
              "        vertical-align: top;\n",
              "    }\n",
              "\n",
              "    .dataframe thead th {\n",
              "        text-align: right;\n",
              "    }\n",
              "</style>\n",
              "<table border=\"1\" class=\"dataframe\">\n",
              "  <thead>\n",
              "    <tr style=\"text-align: right;\">\n",
              "      <th></th>\n",
              "      <th>index</th>\n",
              "      <th>ld</th>\n",
              "      <th>m0</th>\n",
              "      <th>m1</th>\n",
              "      <th>m2</th>\n",
              "      <th>m3</th>\n",
              "      <th>m4</th>\n",
              "      <th>m5</th>\n",
              "      <th>m6</th>\n",
              "      <th>m7</th>\n",
              "      <th>...</th>\n",
              "      <th>m14</th>\n",
              "      <th>m55</th>\n",
              "      <th>m75</th>\n",
              "      <th>m76</th>\n",
              "      <th>m78</th>\n",
              "      <th>pc_E</th>\n",
              "      <th>pc_w</th>\n",
              "      <th>pc_x</th>\n",
              "      <th>pc_y</th>\n",
              "      <th>pc_z</th>\n",
              "    </tr>\n",
              "  </thead>\n",
              "  <tbody>\n",
              "    <tr>\n",
              "      <th>0</th>\n",
              "      <td>0</td>\n",
              "      <td>156.46</td>\n",
              "      <td>73.5</td>\n",
              "      <td>8.8</td>\n",
              "      <td>105.0</td>\n",
              "      <td>13.2768</td>\n",
              "      <td>113.5365</td>\n",
              "      <td>13.9552</td>\n",
              "      <td>168.5460</td>\n",
              "      <td>8.5896</td>\n",
              "      <td>...</td>\n",
              "      <td>166.1100</td>\n",
              "      <td>0</td>\n",
              "      <td>0</td>\n",
              "      <td>1</td>\n",
              "      <td>0</td>\n",
              "      <td>1</td>\n",
              "      <td>0</td>\n",
              "      <td>0</td>\n",
              "      <td>0</td>\n",
              "      <td>0</td>\n",
              "    </tr>\n",
              "    <tr>\n",
              "      <th>1</th>\n",
              "      <td>1</td>\n",
              "      <td>58.87</td>\n",
              "      <td>84.0</td>\n",
              "      <td>12.8</td>\n",
              "      <td>42.0</td>\n",
              "      <td>14.4440</td>\n",
              "      <td>126.6930</td>\n",
              "      <td>13.6688</td>\n",
              "      <td>190.6275</td>\n",
              "      <td>10.1712</td>\n",
              "      <td>...</td>\n",
              "      <td>177.7230</td>\n",
              "      <td>0</td>\n",
              "      <td>0</td>\n",
              "      <td>0</td>\n",
              "      <td>1</td>\n",
              "      <td>0</td>\n",
              "      <td>0</td>\n",
              "      <td>0</td>\n",
              "      <td>1</td>\n",
              "      <td>0</td>\n",
              "    </tr>\n",
              "    <tr>\n",
              "      <th>2</th>\n",
              "      <td>2</td>\n",
              "      <td>139.68</td>\n",
              "      <td>126.0</td>\n",
              "      <td>3.2</td>\n",
              "      <td>73.5</td>\n",
              "      <td>14.2432</td>\n",
              "      <td>107.4885</td>\n",
              "      <td>13.8544</td>\n",
              "      <td>168.3255</td>\n",
              "      <td>10.2504</td>\n",
              "      <td>...</td>\n",
              "      <td>185.6085</td>\n",
              "      <td>0</td>\n",
              "      <td>0</td>\n",
              "      <td>0</td>\n",
              "      <td>1</td>\n",
              "      <td>0</td>\n",
              "      <td>1</td>\n",
              "      <td>0</td>\n",
              "      <td>0</td>\n",
              "      <td>0</td>\n",
              "    </tr>\n",
              "    <tr>\n",
              "      <th>3</th>\n",
              "      <td>3</td>\n",
              "      <td>194.06</td>\n",
              "      <td>52.5</td>\n",
              "      <td>6.4</td>\n",
              "      <td>105.0</td>\n",
              "      <td>14.5480</td>\n",
              "      <td>138.6105</td>\n",
              "      <td>13.5080</td>\n",
              "      <td>196.6545</td>\n",
              "      <td>10.6304</td>\n",
              "      <td>...</td>\n",
              "      <td>180.2745</td>\n",
              "      <td>0</td>\n",
              "      <td>1</td>\n",
              "      <td>0</td>\n",
              "      <td>0</td>\n",
              "      <td>0</td>\n",
              "      <td>0</td>\n",
              "      <td>0</td>\n",
              "      <td>0</td>\n",
              "      <td>1</td>\n",
              "    </tr>\n",
              "    <tr>\n",
              "      <th>4</th>\n",
              "      <td>4</td>\n",
              "      <td>173.14</td>\n",
              "      <td>42.0</td>\n",
              "      <td>8.0</td>\n",
              "      <td>136.5</td>\n",
              "      <td>14.9496</td>\n",
              "      <td>103.8765</td>\n",
              "      <td>13.8936</td>\n",
              "      <td>168.3570</td>\n",
              "      <td>9.6184</td>\n",
              "      <td>...</td>\n",
              "      <td>157.6470</td>\n",
              "      <td>1</td>\n",
              "      <td>0</td>\n",
              "      <td>0</td>\n",
              "      <td>0</td>\n",
              "      <td>0</td>\n",
              "      <td>0</td>\n",
              "      <td>1</td>\n",
              "      <td>0</td>\n",
              "      <td>0</td>\n",
              "    </tr>\n",
              "    <tr>\n",
              "      <th>...</th>\n",
              "      <td>...</td>\n",
              "      <td>...</td>\n",
              "      <td>...</td>\n",
              "      <td>...</td>\n",
              "      <td>...</td>\n",
              "      <td>...</td>\n",
              "      <td>...</td>\n",
              "      <td>...</td>\n",
              "      <td>...</td>\n",
              "      <td>...</td>\n",
              "      <td>...</td>\n",
              "      <td>...</td>\n",
              "      <td>...</td>\n",
              "      <td>...</td>\n",
              "      <td>...</td>\n",
              "      <td>...</td>\n",
              "      <td>...</td>\n",
              "      <td>...</td>\n",
              "      <td>...</td>\n",
              "      <td>...</td>\n",
              "      <td>...</td>\n",
              "    </tr>\n",
              "    <tr>\n",
              "      <th>3981</th>\n",
              "      <td>3981</td>\n",
              "      <td>109.45</td>\n",
              "      <td>126.0</td>\n",
              "      <td>4.0</td>\n",
              "      <td>94.5</td>\n",
              "      <td>14.6168</td>\n",
              "      <td>131.4495</td>\n",
              "      <td>13.1032</td>\n",
              "      <td>189.0840</td>\n",
              "      <td>8.3384</td>\n",
              "      <td>...</td>\n",
              "      <td>180.0435</td>\n",
              "      <td>0</td>\n",
              "      <td>1</td>\n",
              "      <td>0</td>\n",
              "      <td>0</td>\n",
              "      <td>0</td>\n",
              "      <td>0</td>\n",
              "      <td>0</td>\n",
              "      <td>0</td>\n",
              "      <td>1</td>\n",
              "    </tr>\n",
              "    <tr>\n",
              "      <th>3982</th>\n",
              "      <td>3982</td>\n",
              "      <td>188.31</td>\n",
              "      <td>136.5</td>\n",
              "      <td>1.6</td>\n",
              "      <td>21.0</td>\n",
              "      <td>12.9032</td>\n",
              "      <td>115.1535</td>\n",
              "      <td>14.3616</td>\n",
              "      <td>189.4830</td>\n",
              "      <td>7.6680</td>\n",
              "      <td>...</td>\n",
              "      <td>204.5505</td>\n",
              "      <td>0</td>\n",
              "      <td>0</td>\n",
              "      <td>0</td>\n",
              "      <td>1</td>\n",
              "      <td>0</td>\n",
              "      <td>1</td>\n",
              "      <td>0</td>\n",
              "      <td>0</td>\n",
              "      <td>0</td>\n",
              "    </tr>\n",
              "    <tr>\n",
              "      <th>3983</th>\n",
              "      <td>3983</td>\n",
              "      <td>80.99</td>\n",
              "      <td>31.5</td>\n",
              "      <td>4.8</td>\n",
              "      <td>115.5</td>\n",
              "      <td>15.0696</td>\n",
              "      <td>114.6810</td>\n",
              "      <td>14.0200</td>\n",
              "      <td>186.0810</td>\n",
              "      <td>9.2080</td>\n",
              "      <td>...</td>\n",
              "      <td>NaN</td>\n",
              "      <td>0</td>\n",
              "      <td>0</td>\n",
              "      <td>1</td>\n",
              "      <td>0</td>\n",
              "      <td>1</td>\n",
              "      <td>0</td>\n",
              "      <td>0</td>\n",
              "      <td>0</td>\n",
              "      <td>0</td>\n",
              "    </tr>\n",
              "    <tr>\n",
              "      <th>3984</th>\n",
              "      <td>3984</td>\n",
              "      <td>120.64</td>\n",
              "      <td>42.0</td>\n",
              "      <td>0.8</td>\n",
              "      <td>126.0</td>\n",
              "      <td>13.8960</td>\n",
              "      <td>123.6585</td>\n",
              "      <td>13.5496</td>\n",
              "      <td>187.8975</td>\n",
              "      <td>9.7944</td>\n",
              "      <td>...</td>\n",
              "      <td>164.2410</td>\n",
              "      <td>0</td>\n",
              "      <td>0</td>\n",
              "      <td>0</td>\n",
              "      <td>1</td>\n",
              "      <td>0</td>\n",
              "      <td>1</td>\n",
              "      <td>0</td>\n",
              "      <td>0</td>\n",
              "      <td>0</td>\n",
              "    </tr>\n",
              "    <tr>\n",
              "      <th>3985</th>\n",
              "      <td>3985</td>\n",
              "      <td>115.73</td>\n",
              "      <td>199.5</td>\n",
              "      <td>4.0</td>\n",
              "      <td>10.5</td>\n",
              "      <td>14.2592</td>\n",
              "      <td>129.0555</td>\n",
              "      <td>13.8904</td>\n",
              "      <td>179.6865</td>\n",
              "      <td>8.8712</td>\n",
              "      <td>...</td>\n",
              "      <td>178.5420</td>\n",
              "      <td>0</td>\n",
              "      <td>0</td>\n",
              "      <td>0</td>\n",
              "      <td>1</td>\n",
              "      <td>0</td>\n",
              "      <td>1</td>\n",
              "      <td>0</td>\n",
              "      <td>0</td>\n",
              "      <td>0</td>\n",
              "    </tr>\n",
              "  </tbody>\n",
              "</table>\n",
              "<p>3986 rows × 26 columns</p>\n",
              "</div>\n",
              "      <button class=\"colab-df-convert\" onclick=\"convertToInteractive('df-d0f9e76f-290f-4d66-9226-92327c6ec368')\"\n",
              "              title=\"Convert this dataframe to an interactive table.\"\n",
              "              style=\"display:none;\">\n",
              "        \n",
              "  <svg xmlns=\"http://www.w3.org/2000/svg\" height=\"24px\"viewBox=\"0 0 24 24\"\n",
              "       width=\"24px\">\n",
              "    <path d=\"M0 0h24v24H0V0z\" fill=\"none\"/>\n",
              "    <path d=\"M18.56 5.44l.94 2.06.94-2.06 2.06-.94-2.06-.94-.94-2.06-.94 2.06-2.06.94zm-11 1L8.5 8.5l.94-2.06 2.06-.94-2.06-.94L8.5 2.5l-.94 2.06-2.06.94zm10 10l.94 2.06.94-2.06 2.06-.94-2.06-.94-.94-2.06-.94 2.06-2.06.94z\"/><path d=\"M17.41 7.96l-1.37-1.37c-.4-.4-.92-.59-1.43-.59-.52 0-1.04.2-1.43.59L10.3 9.45l-7.72 7.72c-.78.78-.78 2.05 0 2.83L4 21.41c.39.39.9.59 1.41.59.51 0 1.02-.2 1.41-.59l7.78-7.78 2.81-2.81c.8-.78.8-2.07 0-2.86zM5.41 20L4 18.59l7.72-7.72 1.47 1.35L5.41 20z\"/>\n",
              "  </svg>\n",
              "      </button>\n",
              "      \n",
              "  <style>\n",
              "    .colab-df-container {\n",
              "      display:flex;\n",
              "      flex-wrap:wrap;\n",
              "      gap: 12px;\n",
              "    }\n",
              "\n",
              "    .colab-df-convert {\n",
              "      background-color: #E8F0FE;\n",
              "      border: none;\n",
              "      border-radius: 50%;\n",
              "      cursor: pointer;\n",
              "      display: none;\n",
              "      fill: #1967D2;\n",
              "      height: 32px;\n",
              "      padding: 0 0 0 0;\n",
              "      width: 32px;\n",
              "    }\n",
              "\n",
              "    .colab-df-convert:hover {\n",
              "      background-color: #E2EBFA;\n",
              "      box-shadow: 0px 1px 2px rgba(60, 64, 67, 0.3), 0px 1px 3px 1px rgba(60, 64, 67, 0.15);\n",
              "      fill: #174EA6;\n",
              "    }\n",
              "\n",
              "    [theme=dark] .colab-df-convert {\n",
              "      background-color: #3B4455;\n",
              "      fill: #D2E3FC;\n",
              "    }\n",
              "\n",
              "    [theme=dark] .colab-df-convert:hover {\n",
              "      background-color: #434B5C;\n",
              "      box-shadow: 0px 1px 3px 1px rgba(0, 0, 0, 0.15);\n",
              "      filter: drop-shadow(0px 1px 2px rgba(0, 0, 0, 0.3));\n",
              "      fill: #FFFFFF;\n",
              "    }\n",
              "  </style>\n",
              "\n",
              "      <script>\n",
              "        const buttonEl =\n",
              "          document.querySelector('#df-d0f9e76f-290f-4d66-9226-92327c6ec368 button.colab-df-convert');\n",
              "        buttonEl.style.display =\n",
              "          google.colab.kernel.accessAllowed ? 'block' : 'none';\n",
              "\n",
              "        async function convertToInteractive(key) {\n",
              "          const element = document.querySelector('#df-d0f9e76f-290f-4d66-9226-92327c6ec368');\n",
              "          const dataTable =\n",
              "            await google.colab.kernel.invokeFunction('convertToInteractive',\n",
              "                                                     [key], {});\n",
              "          if (!dataTable) return;\n",
              "\n",
              "          const docLinkHtml = 'Like what you see? Visit the ' +\n",
              "            '<a target=\"_blank\" href=https://colab.research.google.com/notebooks/data_table.ipynb>data table notebook</a>'\n",
              "            + ' to learn more about interactive tables.';\n",
              "          element.innerHTML = '';\n",
              "          dataTable['output_type'] = 'display_data';\n",
              "          await google.colab.output.renderOutput(dataTable, element);\n",
              "          const docLink = document.createElement('div');\n",
              "          docLink.innerHTML = docLinkHtml;\n",
              "          element.appendChild(docLink);\n",
              "        }\n",
              "      </script>\n",
              "    </div>\n",
              "  </div>\n",
              "  "
            ]
          },
          "metadata": {},
          "execution_count": 20
        }
      ],
      "source": [
        "df2_encoded"
      ],
      "id": "eTqSGUOq-twY"
    },
    {
      "cell_type": "code",
      "source": [
        "print(list(df2_encoded.isnull().sum()))"
      ],
      "metadata": {
        "id": "e35RseWF-twY",
        "colab": {
          "base_uri": "https://localhost:8080/"
        },
        "outputId": "5813a3dc-bbfa-4dda-8ebb-0a27d193fc01"
      },
      "execution_count": 21,
      "outputs": [
        {
          "output_type": "stream",
          "name": "stdout",
          "text": [
            "[0, 28, 0, 0, 0, 67, 71, 100, 121, 149, 148, 180, 200, 241, 220, 275, 285, 0, 0, 0, 0, 0, 0, 0, 0, 0]\n"
          ]
        }
      ],
      "id": "e35RseWF-twY"
    },
    {
      "cell_type": "code",
      "execution_count": 22,
      "metadata": {
        "id": "khp4xbpR-twZ"
      },
      "outputs": [],
      "source": [
        "df2_encoded = df2_encoded.drop('index', axis=1)"
      ],
      "id": "khp4xbpR-twZ"
    },
    {
      "cell_type": "code",
      "source": [
        "df2_encoded"
      ],
      "metadata": {
        "id": "sMc0DU8oN9xn",
        "colab": {
          "base_uri": "https://localhost:8080/",
          "height": 487
        },
        "outputId": "dcf3bfdf-8e40-41b5-c9f7-9e8987c510a6"
      },
      "id": "sMc0DU8oN9xn",
      "execution_count": 23,
      "outputs": [
        {
          "output_type": "execute_result",
          "data": {
            "text/plain": [
              "          ld     m0    m1     m2       m3        m4       m5        m6  \\\n",
              "0     156.46   73.5   8.8  105.0  13.2768  113.5365  13.9552  168.5460   \n",
              "1      58.87   84.0  12.8   42.0  14.4440  126.6930  13.6688  190.6275   \n",
              "2     139.68  126.0   3.2   73.5  14.2432  107.4885  13.8544  168.3255   \n",
              "3     194.06   52.5   6.4  105.0  14.5480  138.6105  13.5080  196.6545   \n",
              "4     173.14   42.0   8.0  136.5  14.9496  103.8765  13.8936  168.3570   \n",
              "...      ...    ...   ...    ...      ...       ...      ...       ...   \n",
              "3981  109.45  126.0   4.0   94.5  14.6168  131.4495  13.1032  189.0840   \n",
              "3982  188.31  136.5   1.6   21.0  12.9032  115.1535  14.3616  189.4830   \n",
              "3983   80.99   31.5   4.8  115.5  15.0696  114.6810  14.0200  186.0810   \n",
              "3984  120.64   42.0   0.8  126.0  13.8960  123.6585  13.5496  187.8975   \n",
              "3985  115.73  199.5   4.0   10.5  14.2592  129.0555  13.8904  179.6865   \n",
              "\n",
              "           m7        m8  ...       m14  m55  m75  m76  m78  pc_E  pc_w  pc_x  \\\n",
              "0      8.5896  187.6560  ...  166.1100    0    0    1    0     1     0     0   \n",
              "1     10.1712  202.5870  ...  177.7230    0    0    0    1     0     0     0   \n",
              "2     10.2504  214.2735  ...  185.6085    0    0    0    1     0     1     0   \n",
              "3     10.6304  213.4650  ...  180.2745    0    1    0    0     0     0     0   \n",
              "4      9.6184  191.2050  ...  157.6470    1    0    0    0     0     0     1   \n",
              "...       ...       ...  ...       ...  ...  ...  ...  ...   ...   ...   ...   \n",
              "3981   8.3384  203.2275  ...  180.0435    0    1    0    0     0     0     0   \n",
              "3982   7.6680  183.8865  ...  204.5505    0    0    0    1     0     1     0   \n",
              "3983   9.2080  193.6200  ...       NaN    0    0    1    0     1     0     0   \n",
              "3984   9.7944  189.0525  ...  164.2410    0    0    0    1     0     1     0   \n",
              "3985   8.8712  214.6410  ...  178.5420    0    0    0    1     0     1     0   \n",
              "\n",
              "      pc_y  pc_z  \n",
              "0        0     0  \n",
              "1        1     0  \n",
              "2        0     0  \n",
              "3        0     1  \n",
              "4        0     0  \n",
              "...    ...   ...  \n",
              "3981     0     1  \n",
              "3982     0     0  \n",
              "3983     0     0  \n",
              "3984     0     0  \n",
              "3985     0     0  \n",
              "\n",
              "[3986 rows x 25 columns]"
            ],
            "text/html": [
              "\n",
              "  <div id=\"df-5cfc9688-516f-429b-9df7-baf2a1075db0\">\n",
              "    <div class=\"colab-df-container\">\n",
              "      <div>\n",
              "<style scoped>\n",
              "    .dataframe tbody tr th:only-of-type {\n",
              "        vertical-align: middle;\n",
              "    }\n",
              "\n",
              "    .dataframe tbody tr th {\n",
              "        vertical-align: top;\n",
              "    }\n",
              "\n",
              "    .dataframe thead th {\n",
              "        text-align: right;\n",
              "    }\n",
              "</style>\n",
              "<table border=\"1\" class=\"dataframe\">\n",
              "  <thead>\n",
              "    <tr style=\"text-align: right;\">\n",
              "      <th></th>\n",
              "      <th>ld</th>\n",
              "      <th>m0</th>\n",
              "      <th>m1</th>\n",
              "      <th>m2</th>\n",
              "      <th>m3</th>\n",
              "      <th>m4</th>\n",
              "      <th>m5</th>\n",
              "      <th>m6</th>\n",
              "      <th>m7</th>\n",
              "      <th>m8</th>\n",
              "      <th>...</th>\n",
              "      <th>m14</th>\n",
              "      <th>m55</th>\n",
              "      <th>m75</th>\n",
              "      <th>m76</th>\n",
              "      <th>m78</th>\n",
              "      <th>pc_E</th>\n",
              "      <th>pc_w</th>\n",
              "      <th>pc_x</th>\n",
              "      <th>pc_y</th>\n",
              "      <th>pc_z</th>\n",
              "    </tr>\n",
              "  </thead>\n",
              "  <tbody>\n",
              "    <tr>\n",
              "      <th>0</th>\n",
              "      <td>156.46</td>\n",
              "      <td>73.5</td>\n",
              "      <td>8.8</td>\n",
              "      <td>105.0</td>\n",
              "      <td>13.2768</td>\n",
              "      <td>113.5365</td>\n",
              "      <td>13.9552</td>\n",
              "      <td>168.5460</td>\n",
              "      <td>8.5896</td>\n",
              "      <td>187.6560</td>\n",
              "      <td>...</td>\n",
              "      <td>166.1100</td>\n",
              "      <td>0</td>\n",
              "      <td>0</td>\n",
              "      <td>1</td>\n",
              "      <td>0</td>\n",
              "      <td>1</td>\n",
              "      <td>0</td>\n",
              "      <td>0</td>\n",
              "      <td>0</td>\n",
              "      <td>0</td>\n",
              "    </tr>\n",
              "    <tr>\n",
              "      <th>1</th>\n",
              "      <td>58.87</td>\n",
              "      <td>84.0</td>\n",
              "      <td>12.8</td>\n",
              "      <td>42.0</td>\n",
              "      <td>14.4440</td>\n",
              "      <td>126.6930</td>\n",
              "      <td>13.6688</td>\n",
              "      <td>190.6275</td>\n",
              "      <td>10.1712</td>\n",
              "      <td>202.5870</td>\n",
              "      <td>...</td>\n",
              "      <td>177.7230</td>\n",
              "      <td>0</td>\n",
              "      <td>0</td>\n",
              "      <td>0</td>\n",
              "      <td>1</td>\n",
              "      <td>0</td>\n",
              "      <td>0</td>\n",
              "      <td>0</td>\n",
              "      <td>1</td>\n",
              "      <td>0</td>\n",
              "    </tr>\n",
              "    <tr>\n",
              "      <th>2</th>\n",
              "      <td>139.68</td>\n",
              "      <td>126.0</td>\n",
              "      <td>3.2</td>\n",
              "      <td>73.5</td>\n",
              "      <td>14.2432</td>\n",
              "      <td>107.4885</td>\n",
              "      <td>13.8544</td>\n",
              "      <td>168.3255</td>\n",
              "      <td>10.2504</td>\n",
              "      <td>214.2735</td>\n",
              "      <td>...</td>\n",
              "      <td>185.6085</td>\n",
              "      <td>0</td>\n",
              "      <td>0</td>\n",
              "      <td>0</td>\n",
              "      <td>1</td>\n",
              "      <td>0</td>\n",
              "      <td>1</td>\n",
              "      <td>0</td>\n",
              "      <td>0</td>\n",
              "      <td>0</td>\n",
              "    </tr>\n",
              "    <tr>\n",
              "      <th>3</th>\n",
              "      <td>194.06</td>\n",
              "      <td>52.5</td>\n",
              "      <td>6.4</td>\n",
              "      <td>105.0</td>\n",
              "      <td>14.5480</td>\n",
              "      <td>138.6105</td>\n",
              "      <td>13.5080</td>\n",
              "      <td>196.6545</td>\n",
              "      <td>10.6304</td>\n",
              "      <td>213.4650</td>\n",
              "      <td>...</td>\n",
              "      <td>180.2745</td>\n",
              "      <td>0</td>\n",
              "      <td>1</td>\n",
              "      <td>0</td>\n",
              "      <td>0</td>\n",
              "      <td>0</td>\n",
              "      <td>0</td>\n",
              "      <td>0</td>\n",
              "      <td>0</td>\n",
              "      <td>1</td>\n",
              "    </tr>\n",
              "    <tr>\n",
              "      <th>4</th>\n",
              "      <td>173.14</td>\n",
              "      <td>42.0</td>\n",
              "      <td>8.0</td>\n",
              "      <td>136.5</td>\n",
              "      <td>14.9496</td>\n",
              "      <td>103.8765</td>\n",
              "      <td>13.8936</td>\n",
              "      <td>168.3570</td>\n",
              "      <td>9.6184</td>\n",
              "      <td>191.2050</td>\n",
              "      <td>...</td>\n",
              "      <td>157.6470</td>\n",
              "      <td>1</td>\n",
              "      <td>0</td>\n",
              "      <td>0</td>\n",
              "      <td>0</td>\n",
              "      <td>0</td>\n",
              "      <td>0</td>\n",
              "      <td>1</td>\n",
              "      <td>0</td>\n",
              "      <td>0</td>\n",
              "    </tr>\n",
              "    <tr>\n",
              "      <th>...</th>\n",
              "      <td>...</td>\n",
              "      <td>...</td>\n",
              "      <td>...</td>\n",
              "      <td>...</td>\n",
              "      <td>...</td>\n",
              "      <td>...</td>\n",
              "      <td>...</td>\n",
              "      <td>...</td>\n",
              "      <td>...</td>\n",
              "      <td>...</td>\n",
              "      <td>...</td>\n",
              "      <td>...</td>\n",
              "      <td>...</td>\n",
              "      <td>...</td>\n",
              "      <td>...</td>\n",
              "      <td>...</td>\n",
              "      <td>...</td>\n",
              "      <td>...</td>\n",
              "      <td>...</td>\n",
              "      <td>...</td>\n",
              "      <td>...</td>\n",
              "    </tr>\n",
              "    <tr>\n",
              "      <th>3981</th>\n",
              "      <td>109.45</td>\n",
              "      <td>126.0</td>\n",
              "      <td>4.0</td>\n",
              "      <td>94.5</td>\n",
              "      <td>14.6168</td>\n",
              "      <td>131.4495</td>\n",
              "      <td>13.1032</td>\n",
              "      <td>189.0840</td>\n",
              "      <td>8.3384</td>\n",
              "      <td>203.2275</td>\n",
              "      <td>...</td>\n",
              "      <td>180.0435</td>\n",
              "      <td>0</td>\n",
              "      <td>1</td>\n",
              "      <td>0</td>\n",
              "      <td>0</td>\n",
              "      <td>0</td>\n",
              "      <td>0</td>\n",
              "      <td>0</td>\n",
              "      <td>0</td>\n",
              "      <td>1</td>\n",
              "    </tr>\n",
              "    <tr>\n",
              "      <th>3982</th>\n",
              "      <td>188.31</td>\n",
              "      <td>136.5</td>\n",
              "      <td>1.6</td>\n",
              "      <td>21.0</td>\n",
              "      <td>12.9032</td>\n",
              "      <td>115.1535</td>\n",
              "      <td>14.3616</td>\n",
              "      <td>189.4830</td>\n",
              "      <td>7.6680</td>\n",
              "      <td>183.8865</td>\n",
              "      <td>...</td>\n",
              "      <td>204.5505</td>\n",
              "      <td>0</td>\n",
              "      <td>0</td>\n",
              "      <td>0</td>\n",
              "      <td>1</td>\n",
              "      <td>0</td>\n",
              "      <td>1</td>\n",
              "      <td>0</td>\n",
              "      <td>0</td>\n",
              "      <td>0</td>\n",
              "    </tr>\n",
              "    <tr>\n",
              "      <th>3983</th>\n",
              "      <td>80.99</td>\n",
              "      <td>31.5</td>\n",
              "      <td>4.8</td>\n",
              "      <td>115.5</td>\n",
              "      <td>15.0696</td>\n",
              "      <td>114.6810</td>\n",
              "      <td>14.0200</td>\n",
              "      <td>186.0810</td>\n",
              "      <td>9.2080</td>\n",
              "      <td>193.6200</td>\n",
              "      <td>...</td>\n",
              "      <td>NaN</td>\n",
              "      <td>0</td>\n",
              "      <td>0</td>\n",
              "      <td>1</td>\n",
              "      <td>0</td>\n",
              "      <td>1</td>\n",
              "      <td>0</td>\n",
              "      <td>0</td>\n",
              "      <td>0</td>\n",
              "      <td>0</td>\n",
              "    </tr>\n",
              "    <tr>\n",
              "      <th>3984</th>\n",
              "      <td>120.64</td>\n",
              "      <td>42.0</td>\n",
              "      <td>0.8</td>\n",
              "      <td>126.0</td>\n",
              "      <td>13.8960</td>\n",
              "      <td>123.6585</td>\n",
              "      <td>13.5496</td>\n",
              "      <td>187.8975</td>\n",
              "      <td>9.7944</td>\n",
              "      <td>189.0525</td>\n",
              "      <td>...</td>\n",
              "      <td>164.2410</td>\n",
              "      <td>0</td>\n",
              "      <td>0</td>\n",
              "      <td>0</td>\n",
              "      <td>1</td>\n",
              "      <td>0</td>\n",
              "      <td>1</td>\n",
              "      <td>0</td>\n",
              "      <td>0</td>\n",
              "      <td>0</td>\n",
              "    </tr>\n",
              "    <tr>\n",
              "      <th>3985</th>\n",
              "      <td>115.73</td>\n",
              "      <td>199.5</td>\n",
              "      <td>4.0</td>\n",
              "      <td>10.5</td>\n",
              "      <td>14.2592</td>\n",
              "      <td>129.0555</td>\n",
              "      <td>13.8904</td>\n",
              "      <td>179.6865</td>\n",
              "      <td>8.8712</td>\n",
              "      <td>214.6410</td>\n",
              "      <td>...</td>\n",
              "      <td>178.5420</td>\n",
              "      <td>0</td>\n",
              "      <td>0</td>\n",
              "      <td>0</td>\n",
              "      <td>1</td>\n",
              "      <td>0</td>\n",
              "      <td>1</td>\n",
              "      <td>0</td>\n",
              "      <td>0</td>\n",
              "      <td>0</td>\n",
              "    </tr>\n",
              "  </tbody>\n",
              "</table>\n",
              "<p>3986 rows × 25 columns</p>\n",
              "</div>\n",
              "      <button class=\"colab-df-convert\" onclick=\"convertToInteractive('df-5cfc9688-516f-429b-9df7-baf2a1075db0')\"\n",
              "              title=\"Convert this dataframe to an interactive table.\"\n",
              "              style=\"display:none;\">\n",
              "        \n",
              "  <svg xmlns=\"http://www.w3.org/2000/svg\" height=\"24px\"viewBox=\"0 0 24 24\"\n",
              "       width=\"24px\">\n",
              "    <path d=\"M0 0h24v24H0V0z\" fill=\"none\"/>\n",
              "    <path d=\"M18.56 5.44l.94 2.06.94-2.06 2.06-.94-2.06-.94-.94-2.06-.94 2.06-2.06.94zm-11 1L8.5 8.5l.94-2.06 2.06-.94-2.06-.94L8.5 2.5l-.94 2.06-2.06.94zm10 10l.94 2.06.94-2.06 2.06-.94-2.06-.94-.94-2.06-.94 2.06-2.06.94z\"/><path d=\"M17.41 7.96l-1.37-1.37c-.4-.4-.92-.59-1.43-.59-.52 0-1.04.2-1.43.59L10.3 9.45l-7.72 7.72c-.78.78-.78 2.05 0 2.83L4 21.41c.39.39.9.59 1.41.59.51 0 1.02-.2 1.41-.59l7.78-7.78 2.81-2.81c.8-.78.8-2.07 0-2.86zM5.41 20L4 18.59l7.72-7.72 1.47 1.35L5.41 20z\"/>\n",
              "  </svg>\n",
              "      </button>\n",
              "      \n",
              "  <style>\n",
              "    .colab-df-container {\n",
              "      display:flex;\n",
              "      flex-wrap:wrap;\n",
              "      gap: 12px;\n",
              "    }\n",
              "\n",
              "    .colab-df-convert {\n",
              "      background-color: #E8F0FE;\n",
              "      border: none;\n",
              "      border-radius: 50%;\n",
              "      cursor: pointer;\n",
              "      display: none;\n",
              "      fill: #1967D2;\n",
              "      height: 32px;\n",
              "      padding: 0 0 0 0;\n",
              "      width: 32px;\n",
              "    }\n",
              "\n",
              "    .colab-df-convert:hover {\n",
              "      background-color: #E2EBFA;\n",
              "      box-shadow: 0px 1px 2px rgba(60, 64, 67, 0.3), 0px 1px 3px 1px rgba(60, 64, 67, 0.15);\n",
              "      fill: #174EA6;\n",
              "    }\n",
              "\n",
              "    [theme=dark] .colab-df-convert {\n",
              "      background-color: #3B4455;\n",
              "      fill: #D2E3FC;\n",
              "    }\n",
              "\n",
              "    [theme=dark] .colab-df-convert:hover {\n",
              "      background-color: #434B5C;\n",
              "      box-shadow: 0px 1px 3px 1px rgba(0, 0, 0, 0.15);\n",
              "      filter: drop-shadow(0px 1px 2px rgba(0, 0, 0, 0.3));\n",
              "      fill: #FFFFFF;\n",
              "    }\n",
              "  </style>\n",
              "\n",
              "      <script>\n",
              "        const buttonEl =\n",
              "          document.querySelector('#df-5cfc9688-516f-429b-9df7-baf2a1075db0 button.colab-df-convert');\n",
              "        buttonEl.style.display =\n",
              "          google.colab.kernel.accessAllowed ? 'block' : 'none';\n",
              "\n",
              "        async function convertToInteractive(key) {\n",
              "          const element = document.querySelector('#df-5cfc9688-516f-429b-9df7-baf2a1075db0');\n",
              "          const dataTable =\n",
              "            await google.colab.kernel.invokeFunction('convertToInteractive',\n",
              "                                                     [key], {});\n",
              "          if (!dataTable) return;\n",
              "\n",
              "          const docLinkHtml = 'Like what you see? Visit the ' +\n",
              "            '<a target=\"_blank\" href=https://colab.research.google.com/notebooks/data_table.ipynb>data table notebook</a>'\n",
              "            + ' to learn more about interactive tables.';\n",
              "          element.innerHTML = '';\n",
              "          dataTable['output_type'] = 'display_data';\n",
              "          await google.colab.output.renderOutput(dataTable, element);\n",
              "          const docLink = document.createElement('div');\n",
              "          docLink.innerHTML = docLinkHtml;\n",
              "          element.appendChild(docLink);\n",
              "        }\n",
              "      </script>\n",
              "    </div>\n",
              "  </div>\n",
              "  "
            ]
          },
          "metadata": {},
          "execution_count": 23
        }
      ]
    },
    {
      "cell_type": "code",
      "source": [
        "col_means = df2_encoded.mean()\n",
        "df2_test = df2_encoded.fillna(col_means)"
      ],
      "metadata": {
        "id": "MO4_S2Dr_fCE"
      },
      "id": "MO4_S2Dr_fCE",
      "execution_count": 24,
      "outputs": []
    },
    {
      "cell_type": "markdown",
      "source": [
        "## Formatting data"
      ],
      "metadata": {
        "id": "eph3pFlr49cs"
      },
      "id": "eph3pFlr49cs"
    },
    {
      "cell_type": "code",
      "execution_count": 25,
      "id": "903f9144",
      "metadata": {
        "id": "903f9144"
      },
      "outputs": [],
      "source": [
        "from sklearn.utils import resample\n",
        "from sklearn.preprocessing import MinMaxScaler\n",
        "from sklearn.model_selection import train_test_split\n",
        "from sklearn.linear_model import LogisticRegression\n",
        "from sklearn.metrics import f1_score\n",
        "from sklearn.metrics import classification_report\n",
        "from sklearn.metrics import accuracy_score\n",
        "from sklearn.metrics import classification_report\n",
        "from sklearn.ensemble import GradientBoostingClassifier\n",
        "from sklearn.ensemble import RandomForestClassifier\n",
        "scaler = MinMaxScaler()\n",
        "from sklearn import svm\n",
        "import xgboost as xgb\n",
        "import lightgbm as lgb"
      ]
    },
    {
      "cell_type": "code",
      "source": [
        "def resample_data(df_train):\n",
        "  df_train_minority = df_train[df_train['pred'] ==1]\n",
        "  df_train_majority = df_train[df_train['pred'] ==0]\n",
        "  df_train_minority = resample(df_train_minority, replace = True, n_samples = len(df_train_majority), random_state = 0)\n",
        "  return pd.concat([df_train_minority, df_train_majority])"
      ],
      "metadata": {
        "id": "D9IZifKq4RVZ"
      },
      "id": "D9IZifKq4RVZ",
      "execution_count": 26,
      "outputs": []
    },
    {
      "cell_type": "code",
      "source": [
        "df_resample = resample_data(df_train)"
      ],
      "metadata": {
        "id": "sFtl_UGT4Pzr"
      },
      "id": "sFtl_UGT4Pzr",
      "execution_count": 27,
      "outputs": []
    },
    {
      "cell_type": "code",
      "execution_count": 28,
      "id": "3af3e509",
      "metadata": {
        "id": "3af3e509"
      },
      "outputs": [],
      "source": [
        "y_data = df_train['pred']\n",
        "x_data = df_train.drop('pred',axis=1)\n",
        "\n",
        "x_train, x_test, y_train, y_test = train_test_split(x_data, y_data, test_size = 0.2, random_state = 0)\n",
        "\n",
        "x_train = pd.DataFrame(scaler.fit_transform(x_train))\n",
        "x_test = pd.DataFrame(scaler.transform(x_test))"
      ]
    },
    {
      "cell_type": "code",
      "execution_count": 29,
      "id": "cb54ced5",
      "metadata": {
        "id": "cb54ced5"
      },
      "outputs": [],
      "source": [
        "y_data_res = df_resample['pred']\n",
        "x_data_res = df_resample.drop('pred',axis=1)\n",
        "\n",
        "x_train_res, x_test_res, y_train_res, y_test_res = train_test_split(x_data_res, y_data_res, test_size = 0.2, random_state = 0)\n",
        "\n",
        "x_train_res = pd.DataFrame(scaler.fit_transform(x_train_res))\n",
        "x_test_res = pd.DataFrame(scaler.transform(x_test_res))"
      ]
    },
    {
      "cell_type": "code",
      "source": [
        "df2 = pd.DataFrame(scaler.fit_transform(df2_test)) #test data final"
      ],
      "metadata": {
        "id": "1HI9q4qmAY1S"
      },
      "id": "1HI9q4qmAY1S",
      "execution_count": 30,
      "outputs": []
    },
    {
      "cell_type": "code",
      "source": [
        "print(y_train.value_counts())\n",
        "print(y_train_res.value_counts())"
      ],
      "metadata": {
        "id": "HqiglDD44kT_",
        "colab": {
          "base_uri": "https://localhost:8080/"
        },
        "outputId": "8162673c-5af3-4e30-d6b6-714eaea89cbb"
      },
      "id": "HqiglDD44kT_",
      "execution_count": 31,
      "outputs": [
        {
          "output_type": "stream",
          "name": "stdout",
          "text": [
            "0    14189\n",
            "1     3878\n",
            "Name: pred, dtype: int64\n",
            "0    14180\n",
            "1    14157\n",
            "Name: pred, dtype: int64\n"
          ]
        }
      ]
    },
    {
      "cell_type": "code",
      "source": [
        "def print_stats(df_x,df_y,clf):\n",
        "    pred = clf.predict(df_x)\n",
        "    pred = pd.DataFrame({'pred':pred})\n",
        "    print(f\"F1 score: {f1_score(df_y, pred)}\")\n",
        "    print(f\"Accuracy: {accuracy_score(pred, df_y)}\")\n",
        "    # print(classification_report(df_y, pred))\n",
        "    print(pred.value_counts())"
      ],
      "metadata": {
        "id": "6ep8xGHk50lS"
      },
      "id": "6ep8xGHk50lS",
      "execution_count": 32,
      "outputs": []
    },
    {
      "cell_type": "markdown",
      "source": [
        "## Logistic Regression"
      ],
      "metadata": {
        "id": "jf2rZY3opvj7"
      },
      "id": "jf2rZY3opvj7"
    },
    {
      "cell_type": "code",
      "source": [
        "class_weights = {0: 1, 1: 4.63}\n",
        "clf = LogisticRegression(class_weight=class_weights)\n",
        "clf.fit(x_train, y_train)\n",
        "\n",
        "print_stats(x_train, y_train, clf)\n",
        "print(\"\\n------------------\\n\")\n",
        "print_stats(x_test, y_test, clf)"
      ],
      "metadata": {
        "id": "wM2YjE70pDJW",
        "colab": {
          "base_uri": "https://localhost:8080/"
        },
        "outputId": "c551c51c-7616-4ad5-d70c-3a3ef4a27b93"
      },
      "id": "wM2YjE70pDJW",
      "execution_count": 33,
      "outputs": [
        {
          "output_type": "stream",
          "name": "stdout",
          "text": [
            "F1 score: 0.371177462075608\n",
            "Accuracy: 0.4218187856312614\n",
            "pred\n",
            "1       12734\n",
            "0        5333\n",
            "dtype: int64\n",
            "\n",
            "------------------\n",
            "\n",
            "F1 score: 0.37356321839080464\n",
            "Accuracy: 0.4208545494797432\n",
            "pred\n",
            "1       3181\n",
            "0       1336\n",
            "dtype: int64\n"
          ]
        }
      ]
    },
    {
      "cell_type": "code",
      "source": [
        "clf = LogisticRegression()\n",
        "clf.fit(x_train_res, y_train_res)\n",
        "\n",
        "print_stats(x_train_res, y_train_res, clf)\n",
        "print(\"\\n------------------\\n\")\n",
        "print_stats(x_test_res, y_test_res, clf)"
      ],
      "metadata": {
        "id": "3v1hEFw_7odU",
        "colab": {
          "base_uri": "https://localhost:8080/"
        },
        "outputId": "79ee6a88-6fe8-4fc4-a99c-1058328e53b7"
      },
      "id": "3v1hEFw_7odU",
      "execution_count": 34,
      "outputs": [
        {
          "output_type": "stream",
          "name": "stdout",
          "text": [
            "F1 score: 0.539546655748688\n",
            "Accuracy: 0.5634329674983237\n",
            "pred\n",
            "0       15627\n",
            "1       12710\n",
            "dtype: int64\n",
            "\n",
            "------------------\n",
            "\n",
            "F1 score: 0.5362448009506834\n",
            "Accuracy: 0.5593507410021171\n",
            "pred\n",
            "0       3907\n",
            "1       3178\n",
            "dtype: int64\n"
          ]
        }
      ]
    },
    {
      "cell_type": "markdown",
      "source": [
        "## SVM"
      ],
      "metadata": {
        "id": "gFf_XEgmp5HQ"
      },
      "id": "gFf_XEgmp5HQ"
    },
    {
      "cell_type": "code",
      "source": [
        "# --> On Training and Validation data without Resample\n",
        "class_weights = {0: 1, 1: 4.63}\n",
        "\n",
        "clf2 = svm.SVC(kernel = 'rbf', C=10, gamma = 'auto',class_weight =class_weights)\n",
        "clf2.fit(x_train, y_train)\n",
        "\n",
        "print_stats(x_train, y_train, clf2)\n",
        "print(\"\\n------------------\\n\")\n",
        "print_stats(x_test, y_test, clf2)"
      ],
      "metadata": {
        "id": "fUmN3CAb7RnP",
        "colab": {
          "base_uri": "https://localhost:8080/"
        },
        "outputId": "b2fadd8a-c46c-469f-a8da-5fd5277a9b34"
      },
      "id": "fUmN3CAb7RnP",
      "execution_count": 35,
      "outputs": [
        {
          "output_type": "stream",
          "name": "stdout",
          "text": [
            "F1 score: 0.36089264648053476\n",
            "Accuracy: 0.28034538108152984\n",
            "pred\n",
            "1       16466\n",
            "0        1601\n",
            "dtype: int64\n",
            "\n",
            "------------------\n",
            "\n",
            "F1 score: 0.3643122676579926\n",
            "Accuracy: 0.2807172902368829\n",
            "pred\n",
            "1       4116\n",
            "0        401\n",
            "dtype: int64\n"
          ]
        }
      ]
    },
    {
      "cell_type": "code",
      "source": [
        "# --> On Training and Validation data with Resample\n",
        "clf = svm.SVC(kernel = 'rbf', C=10, gamma = 'auto')\n",
        "clf.fit(x_train_res, y_train_res)\n",
        "\n",
        "print_stats(x_train_res, y_train_res, clf)\n",
        "print(\"\\n------------------\\n\")\n",
        "print_stats(x_test_res, y_test_res, clf)"
      ],
      "metadata": {
        "id": "rxs3E8-U7a__",
        "colab": {
          "base_uri": "https://localhost:8080/"
        },
        "outputId": "3de7a332-3571-4e76-e1a3-0d18c77f4a54"
      },
      "id": "rxs3E8-U7a__",
      "execution_count": 36,
      "outputs": [
        {
          "output_type": "stream",
          "name": "stdout",
          "text": [
            "F1 score: 0.5405198484094477\n",
            "Accuracy: 0.5764195221794827\n",
            "pred\n",
            "0       16371\n",
            "1       11966\n",
            "dtype: int64\n",
            "\n",
            "------------------\n",
            "\n",
            "F1 score: 0.527479275406816\n",
            "Accuracy: 0.565561044460127\n",
            "pred\n",
            "0       4125\n",
            "1       2960\n",
            "dtype: int64\n"
          ]
        }
      ]
    },
    {
      "cell_type": "code",
      "source": [
        "# --> On Testing data\n",
        "pred = clf2.predict(df2)\n",
        "pred = pd.DataFrame({'pred': pred})\n",
        "pred.value_counts()"
      ],
      "metadata": {
        "id": "WWPO6p3rJNg6",
        "colab": {
          "base_uri": "https://localhost:8080/"
        },
        "outputId": "88531583-8392-4ef2-b226-6bd4c6d836d1"
      },
      "id": "WWPO6p3rJNg6",
      "execution_count": 37,
      "outputs": [
        {
          "output_type": "execute_result",
          "data": {
            "text/plain": [
              "pred\n",
              "1       3663\n",
              "0        323\n",
              "dtype: int64"
            ]
          },
          "metadata": {},
          "execution_count": 37
        }
      ]
    },
    {
      "cell_type": "markdown",
      "source": [
        "## Random forest"
      ],
      "metadata": {
        "id": "do_IJwZor_X5"
      },
      "id": "do_IJwZor_X5"
    },
    {
      "cell_type": "code",
      "source": [
        "# --> On Training and Validation data without Resample\n",
        "\n",
        "class_weights = {0: 1, 1: 4.63}\n",
        "clf = RandomForestClassifier(n_estimators = 100,class_weight=class_weights,random_state=2)\n",
        "clf.fit(x_train, y_train)\n",
        "\n",
        "print_stats(x_train, y_train, clf)\n",
        "print(\"\\n------------------\\n\")\n",
        "print_stats(x_test, y_test, clf)"
      ],
      "metadata": {
        "id": "9jU_ezX7sJMg",
        "colab": {
          "base_uri": "https://localhost:8080/"
        },
        "outputId": "4be6dcce-160b-4e52-c1ff-b327cd9b0ad2"
      },
      "id": "9jU_ezX7sJMg",
      "execution_count": 38,
      "outputs": [
        {
          "output_type": "stream",
          "name": "stdout",
          "text": [
            "F1 score: 1.0\n",
            "Accuracy: 1.0\n",
            "pred\n",
            "0       14189\n",
            "1        3878\n",
            "dtype: int64\n",
            "\n",
            "------------------\n",
            "\n",
            "F1 score: 0.1501390176088971\n",
            "Accuracy: 0.7969891520920965\n",
            "pred\n",
            "0       4433\n",
            "1         84\n",
            "dtype: int64\n"
          ]
        }
      ]
    },
    {
      "cell_type": "code",
      "source": [
        "# --> On Training and Validation data with Resample\n",
        "\n",
        "clf = RandomForestClassifier(n_estimators = 100,random_state=2)\n",
        "clf.fit(x_train_res, y_train_res)\n",
        "\n",
        "print_stats(x_train_res, y_train_res, clf)\n",
        "print(\"\\n------------------\\n\")\n",
        "print_stats(x_test_res, y_test_res, clf)"
      ],
      "metadata": {
        "id": "Sd7TyWV77C_u",
        "colab": {
          "base_uri": "https://localhost:8080/"
        },
        "outputId": "73cd7a67-5cbf-4d23-91e4-f436468c73bd"
      },
      "id": "Sd7TyWV77C_u",
      "execution_count": 39,
      "outputs": [
        {
          "output_type": "stream",
          "name": "stdout",
          "text": [
            "F1 score: 1.0\n",
            "Accuracy: 1.0\n",
            "pred\n",
            "0       14180\n",
            "1       14157\n",
            "dtype: int64\n",
            "\n",
            "------------------\n",
            "\n",
            "F1 score: 0.9715348304963526\n",
            "Accuracy: 0.9719124911785463\n",
            "pred\n",
            "0       3648\n",
            "1       3437\n",
            "dtype: int64\n"
          ]
        }
      ]
    },
    {
      "cell_type": "code",
      "source": [
        "# --> On Testing data\n",
        "pred = clf.predict(df2)\n",
        "pred = pd.DataFrame({'pred': pred})\n",
        "pred.value_counts()"
      ],
      "metadata": {
        "id": "1UYmpsCDEfpc",
        "colab": {
          "base_uri": "https://localhost:8080/"
        },
        "outputId": "d68941cd-03f4-4129-9090-7443216cf3e4"
      },
      "id": "1UYmpsCDEfpc",
      "execution_count": 40,
      "outputs": [
        {
          "output_type": "execute_result",
          "data": {
            "text/plain": [
              "pred\n",
              "0       3910\n",
              "1         76\n",
              "dtype: int64"
            ]
          },
          "metadata": {},
          "execution_count": 40
        }
      ]
    },
    {
      "cell_type": "markdown",
      "source": [
        "## Gradient Boosting"
      ],
      "metadata": {
        "id": "KKxoDlR1p7t-"
      },
      "id": "KKxoDlR1p7t-"
    },
    {
      "cell_type": "code",
      "source": [
        "# --> On Training and Validation data without Resample\n",
        "clf2 = GradientBoostingClassifier()\n",
        "clf2.fit(x_train, y_train)\n",
        "\n",
        "print_stats(x_train, y_train, clf)\n",
        "print(\"\\n------------------\\n\")\n",
        "print_stats(x_test, y_test, clf)"
      ],
      "metadata": {
        "id": "hQ1oJnXyqpCu",
        "colab": {
          "base_uri": "https://localhost:8080/"
        },
        "outputId": "05a64c87-8381-4d20-ccbc-bf96951dc825"
      },
      "id": "hQ1oJnXyqpCu",
      "execution_count": 41,
      "outputs": [
        {
          "output_type": "stream",
          "name": "stdout",
          "text": [
            "F1 score: 0.8714408973252804\n",
            "Accuracy: 0.9505175181269718\n",
            "pred\n",
            "0       14991\n",
            "1        3076\n",
            "dtype: int64\n",
            "\n",
            "------------------\n",
            "\n",
            "F1 score: 0.8584320360970106\n",
            "Accuracy: 0.9444321452291344\n",
            "pred\n",
            "0       3739\n",
            "1        778\n",
            "dtype: int64\n"
          ]
        }
      ]
    },
    {
      "cell_type": "code",
      "source": [
        "# --> On Training and Validation data with Resample\n",
        "\n",
        "clf = GradientBoostingClassifier()\n",
        "clf.fit(x_train_res, y_train_res)\n",
        "\n",
        "print_stats(x_train_res, y_train_res, clf)\n",
        "print(\"\\n------------------\\n\")\n",
        "print_stats(x_test_res, y_test_res, clf)"
      ],
      "metadata": {
        "id": "DGl-kMgktTnp",
        "colab": {
          "base_uri": "https://localhost:8080/"
        },
        "outputId": "587b9e33-c87a-456b-f6a5-7150d9bed96c"
      },
      "id": "DGl-kMgktTnp",
      "execution_count": 42,
      "outputs": [
        {
          "output_type": "stream",
          "name": "stdout",
          "text": [
            "F1 score: 0.7571851904744904\n",
            "Accuracy: 0.7599957652539083\n",
            "pred\n",
            "0       14485\n",
            "1       13852\n",
            "dtype: int64\n",
            "\n",
            "------------------\n",
            "\n",
            "F1 score: 0.7441134751773049\n",
            "Accuracy: 0.7453775582215949\n",
            "pred\n",
            "0       3589\n",
            "1       3496\n",
            "dtype: int64\n"
          ]
        }
      ]
    },
    {
      "cell_type": "code",
      "source": [
        "# --> On Testing data\n",
        "pred_gb = clf.predict(df2)\n",
        "pred_gb = pd.DataFrame({'pred': pred_gb})\n",
        "pred_gb.value_counts()\n",
        "\n",
        "# --> this code is used to download prediction file\n",
        "# file_path = 'pred_gb.csv'\n",
        "# pred_gb.to_csv(file_path,index = False)\n",
        "# from IPython.display import FileLink\n",
        "# FileLink(file_path)"
      ],
      "metadata": {
        "id": "_265T9VUxILP",
        "colab": {
          "base_uri": "https://localhost:8080/",
          "height": 34
        },
        "outputId": "928bacbf-e02d-44f9-a357-63aa8b484a1f"
      },
      "id": "_265T9VUxILP",
      "execution_count": 43,
      "outputs": [
        {
          "output_type": "execute_result",
          "data": {
            "text/plain": [
              "/content/pred_gb.csv"
            ],
            "text/html": [
              "<a href='pred_gb.csv' target='_blank'>pred_gb.csv</a><br>"
            ]
          },
          "metadata": {},
          "execution_count": 43
        }
      ]
    },
    {
      "cell_type": "code",
      "source": [
        "pred_gb.value_counts()"
      ],
      "metadata": {
        "id": "OOjoLj96UVDx",
        "colab": {
          "base_uri": "https://localhost:8080/"
        },
        "outputId": "26eb39ea-181f-4b87-a289-39e7fbbd52ee"
      },
      "id": "OOjoLj96UVDx",
      "execution_count": 44,
      "outputs": [
        {
          "output_type": "execute_result",
          "data": {
            "text/plain": [
              "pred\n",
              "0       2013\n",
              "1       1973\n",
              "dtype: int64"
            ]
          },
          "metadata": {},
          "execution_count": 44
        }
      ]
    },
    {
      "cell_type": "markdown",
      "source": [
        "##XGBoost\n"
      ],
      "metadata": {
        "id": "-CZ7oATIGWEH"
      },
      "id": "-CZ7oATIGWEH"
    },
    {
      "cell_type": "code",
      "source": [
        "# --> On Training and Validation data without Resample\n",
        "clf2 = xgb.XGBClassifier()\n",
        "clf2.fit(x_train, y_train)\n",
        "\n",
        "print_stats(x_train, y_train, clf)\n",
        "print(\"\\n------------------\\n\")\n",
        "print_stats(x_test, y_test, clf)"
      ],
      "metadata": {
        "id": "yUl_CrSaGYnj",
        "colab": {
          "base_uri": "https://localhost:8080/"
        },
        "outputId": "b7bf8863-5dfc-40c2-a2ab-463c7858418e"
      },
      "id": "yUl_CrSaGYnj",
      "execution_count": 46,
      "outputs": [
        {
          "output_type": "stream",
          "name": "stdout",
          "text": [
            "F1 score: 0.4401705682708207\n",
            "Accuracy: 0.6439364587369236\n",
            "pred\n",
            "0       10454\n",
            "1        7613\n",
            "dtype: int64\n",
            "\n",
            "------------------\n",
            "\n",
            "F1 score: 0.41198759903548055\n",
            "Accuracy: 0.6220943103829976\n",
            "pred\n",
            "0       2609\n",
            "1       1908\n",
            "dtype: int64\n"
          ]
        }
      ]
    },
    {
      "cell_type": "code",
      "source": [
        "# --> On Training and Validation data with Resample\n",
        "clf = xgb.XGBClassifier()\n",
        "clf.fit(x_train_res, y_train_res)\n",
        "\n",
        "print_stats(x_train_res, y_train_res, clf)\n",
        "print(\"\\n------------------\\n\")\n",
        "print_stats(x_test_res, y_test_res, clf)"
      ],
      "metadata": {
        "id": "n21spRLeTTDz",
        "colab": {
          "base_uri": "https://localhost:8080/"
        },
        "outputId": "5d9ea266-4256-45ec-8402-6ea9a8bc8640"
      },
      "id": "n21spRLeTTDz",
      "execution_count": 47,
      "outputs": [
        {
          "output_type": "stream",
          "name": "stdout",
          "text": [
            "F1 score: 0.9538299737072743\n",
            "Accuracy: 0.9535236616437873\n",
            "pred\n",
            "1       14368\n",
            "0       13969\n",
            "dtype: int64\n",
            "\n",
            "------------------\n",
            "\n",
            "F1 score: 0.8824725498169987\n",
            "Accuracy: 0.8776287932251235\n",
            "pred\n",
            "1       3823\n",
            "0       3262\n",
            "dtype: int64\n"
          ]
        }
      ]
    },
    {
      "cell_type": "code",
      "source": [
        "# --> On Testing data\n",
        "x_gb = clf2.predict(df2)\n",
        "x_gb = pd.DataFrame({'pred': x_gb})\n",
        "x_gb.value_counts()\n",
        "\n",
        "# --> this code is used to download prediction file\n",
        "# file_path = 'X_gb.csv'\n",
        "# x_gb.to_csv(file_path,index = False)\n",
        "# from IPython.display import FileLink\n",
        "# FileLink(file_path)"
      ],
      "metadata": {
        "id": "6RuQLtr3TVxr",
        "colab": {
          "base_uri": "https://localhost:8080/",
          "height": 34
        },
        "outputId": "f578b680-c575-4ce7-f236-bd776c7418d0"
      },
      "id": "6RuQLtr3TVxr",
      "execution_count": 48,
      "outputs": [
        {
          "output_type": "execute_result",
          "data": {
            "text/plain": [
              "/content/X_gb.csv"
            ],
            "text/html": [
              "<a href='X_gb.csv' target='_blank'>X_gb.csv</a><br>"
            ]
          },
          "metadata": {},
          "execution_count": 48
        }
      ]
    },
    {
      "cell_type": "code",
      "source": [
        "x_gb.value_counts()"
      ],
      "metadata": {
        "id": "i9qxa6YLUBKo",
        "colab": {
          "base_uri": "https://localhost:8080/"
        },
        "outputId": "fbc2aa0c-e7e0-4bf5-f350-61e1d231761f"
      },
      "id": "i9qxa6YLUBKo",
      "execution_count": 49,
      "outputs": [
        {
          "output_type": "execute_result",
          "data": {
            "text/plain": [
              "pred\n",
              "0       3837\n",
              "1        149\n",
              "dtype: int64"
            ]
          },
          "metadata": {},
          "execution_count": 49
        }
      ]
    },
    {
      "cell_type": "markdown",
      "source": [
        "##LightGBM"
      ],
      "metadata": {
        "id": "ETdP9ObnWLY0"
      },
      "id": "ETdP9ObnWLY0"
    },
    {
      "cell_type": "code",
      "source": [
        "# --> On Training and Validation data without Resample\n",
        "clf2 = lgb.LGBMClassifier()\n",
        "clf2.fit(x_train, y_train)\n",
        "\n",
        "print_stats(x_train, y_train, clf)\n",
        "print(\"\\n------------------\\n\")\n",
        "print_stats(x_test, y_test, clf)"
      ],
      "metadata": {
        "id": "v-2OmGaoWK8c",
        "colab": {
          "base_uri": "https://localhost:8080/"
        },
        "outputId": "fb02f1cf-be1f-48a8-ec84-09426bda0717"
      },
      "id": "v-2OmGaoWK8c",
      "execution_count": 50,
      "outputs": [
        {
          "output_type": "stream",
          "name": "stdout",
          "text": [
            "F1 score: 0.5724137931034483\n",
            "Accuracy: 0.7940997398571982\n",
            "pred\n",
            "0       13245\n",
            "1        4822\n",
            "dtype: int64\n",
            "\n",
            "------------------\n",
            "\n",
            "F1 score: 0.5617977528089888\n",
            "Accuracy: 0.7841487713083906\n",
            "pred\n",
            "0       3287\n",
            "1       1230\n",
            "dtype: int64\n"
          ]
        }
      ]
    },
    {
      "cell_type": "code",
      "source": [
        "# --> On Training and Validation data with Resample\n",
        "clf = lgb.LGBMClassifier()\n",
        "clf.fit(x_train_res, y_train_res)\n",
        "\n",
        "print_stats(x_train_res, y_train_res, clf)\n",
        "print(\"\\n------------------\\n\")\n",
        "print_stats(x_test_res, y_test_res, clf)"
      ],
      "metadata": {
        "id": "b9fyC9iAWdAI",
        "colab": {
          "base_uri": "https://localhost:8080/"
        },
        "outputId": "65bcd258-79da-457c-f1a4-d50fd983e2f0"
      },
      "id": "b9fyC9iAWdAI",
      "execution_count": 51,
      "outputs": [
        {
          "output_type": "stream",
          "name": "stdout",
          "text": [
            "F1 score: 0.895541090883776\n",
            "Accuracy: 0.8940960581571796\n",
            "pred\n",
            "1       14572\n",
            "0       13765\n",
            "dtype: int64\n",
            "\n",
            "------------------\n",
            "\n",
            "F1 score: 0.8351618211738892\n",
            "Accuracy: 0.8303458009880028\n",
            "pred\n",
            "1       3738\n",
            "0       3347\n",
            "dtype: int64\n"
          ]
        }
      ]
    },
    {
      "cell_type": "code",
      "source": [
        "# --> On Testing data\n",
        "l_gb = clf.predict(df2)\n",
        "l_gb = pd.DataFrame({'pred': l_gb})\n",
        "l_gb.value_counts()\n",
        "\n",
        "\n",
        "# --> this code is used to download prediction file\n",
        "# file_path = 'l_gb.csv'\n",
        "# l_gb.to_csv(file_path,index = False)\n",
        "# from IPython.display import FileLink\n",
        "# FileLink(file_path)"
      ],
      "metadata": {
        "id": "vYDy2RL1Wf52",
        "colab": {
          "base_uri": "https://localhost:8080/",
          "height": 34
        },
        "outputId": "df0445fb-cb7e-4462-f130-1b7bb90d8389"
      },
      "id": "vYDy2RL1Wf52",
      "execution_count": 52,
      "outputs": [
        {
          "output_type": "execute_result",
          "data": {
            "text/plain": [
              "/content/l_gb.csv"
            ],
            "text/html": [
              "<a href='l_gb.csv' target='_blank'>l_gb.csv</a><br>"
            ]
          },
          "metadata": {},
          "execution_count": 52
        }
      ]
    },
    {
      "cell_type": "code",
      "source": [
        "l_gb.value_counts()"
      ],
      "metadata": {
        "id": "zz2IqEJwWxw3",
        "colab": {
          "base_uri": "https://localhost:8080/"
        },
        "outputId": "636ec6bb-fe61-4c25-fde1-5b6ea937acf9"
      },
      "id": "zz2IqEJwWxw3",
      "execution_count": 53,
      "outputs": [
        {
          "output_type": "execute_result",
          "data": {
            "text/plain": [
              "pred\n",
              "0       2523\n",
              "1       1463\n",
              "dtype: int64"
            ]
          },
          "metadata": {},
          "execution_count": 53
        }
      ]
    }
  ],
  "metadata": {
    "kernelspec": {
      "display_name": "Python 3 (ipykernel)",
      "language": "python",
      "name": "python3"
    },
    "language_info": {
      "codemirror_mode": {
        "name": "ipython",
        "version": 3
      },
      "file_extension": ".py",
      "mimetype": "text/x-python",
      "name": "python",
      "nbconvert_exporter": "python",
      "pygments_lexer": "ipython3",
      "version": "3.9.6"
    },
    "colab": {
      "provenance": [],
      "collapsed_sections": [
        "6UbeLzkc5B-u"
      ]
    }
  },
  "nbformat": 4,
  "nbformat_minor": 5
}